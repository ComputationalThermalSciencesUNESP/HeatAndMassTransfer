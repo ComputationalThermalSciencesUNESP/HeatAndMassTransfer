{
 "cells": [
  {
   "cell_type": "markdown",
   "id": "b915d035-3ec4-4c1a-9388-dca55c7ab08e",
   "metadata": {},
   "source": [
    "# Solução Computacional de Exemplos de Aletas - Incropera, 8th. Ed."
   ]
  },
  {
   "cell_type": "markdown",
   "id": "4f6e5a44-fb0f-488a-b7f5-8f351baff847",
   "metadata": {},
   "source": [
    "### Modo de usar este notebook\n",
    "Cada célula aqui representa um pedaço de código que deve ser executado clicando no botão de \"play\" na barra superior ou com \"Shift + Enter\" do teclado. Execute as células em sequência e leia as informações contidas."
   ]
  },
  {
   "cell_type": "code",
   "execution_count": null,
   "id": "90172cfe-faf6-4bb4-bb85-132a67823411",
   "metadata": {},
   "outputs": [],
   "source": [
    "import numpy as np\n",
    "import pandas as pd\n",
    "import matplotlib.pyplot as plt\n",
    "import seaborn as sb\n",
    "\n",
    "import ipywidgets as widgets\n",
    "from IPython.display import display"
   ]
  },
  {
   "cell_type": "code",
   "execution_count": null,
   "id": "c82b5e8a-0041-48cb-8e1b-ba83b02e392b",
   "metadata": {},
   "outputs": [],
   "source": [
    "from hmt.lib.fins import (\n",
    "    FinUniformAtr,\n",
    "    FinPiniformRectangular,\n",
    "    FinPiniformTriangular,\n",
    "    FinPiniformParabolic,\n",
    "    FinPlanarRectangular,\n",
    "    FinPlanarTriangular,\n",
    "    FinPlanarParabolic,\n",
    "    FinAnnular\n",
    ")"
   ]
  },
  {
   "cell_type": "code",
   "execution_count": null,
   "id": "8cca0c00",
   "metadata": {},
   "outputs": [],
   "source": [
    "sb.set_context(\n",
    "    \"talk\",\n",
    "    font_scale=1.2\n",
    ")\n",
    "\n",
    "sb.set_style(\n",
    "    \"darkgrid\"\n",
    ")\n",
    "\n",
    "layout = widgets.Layout(\n",
    "            width=\"50%\"\n",
    "         )\n",
    "\n",
    "style = {\"description_width\": \"initial\"}"
   ]
  },
  {
   "cell_type": "markdown",
   "id": "a749ba73-dc03-446b-91c1-f1150e47a505",
   "metadata": {},
   "source": [
    "### Exercício 3.103 do Livro-texto\n",
    "\n",
    "Um bastão de latão com $100 mm$ de comprimento e $5 mm$ de diâmetro se estende horizontalmente a partir de uma peça a $200 °C$. O bastão encontra-se em um ambiente com $T_\\infty = 20 °C$ e $h = 30 W/(m^2 K)$. Quais são as temperaturas no bastão a $25$, $50$ e $100 mm$ da peça?"
   ]
  },
  {
   "cell_type": "markdown",
   "id": "6afeace0-511c-4286-a1d3-6dab94f23158",
   "metadata": {},
   "source": [
    "R: Consultando o apêndice A para a condutividade do latão a $\\approx 110 ºC$ (temperatura média):"
   ]
  },
  {
   "cell_type": "code",
   "execution_count": null,
   "id": "454cefc1-b220-406e-9d5a-9aa88a3aa9f9",
   "metadata": {},
   "outputs": [],
   "source": [
    "Tm = 110.0 + 273.15 # K\n",
    "\n",
    "T1 = 200.0 # K \n",
    "k1 = 95.0 # W/(mK)\n",
    "\n",
    "T2 = 400.0 # K \n",
    "k2 = 137.0 # W/(mK)\n",
    "\n",
    "# Quick linear interpolation for a more accurate results\n",
    "kLatao = k1 + (Tm - T1)*(k2 - k1)/(T2 - T1)\n",
    "kLatao"
   ]
  },
  {
   "cell_type": "markdown",
   "id": "866dc0ba-2440-4113-bc13-5c871f6514f0",
   "metadata": {},
   "source": [
    "Aleta piniforme com área de seção uniforme. Todas as equação são bem estabalecidas e disponíveis no livro-texto, na seção de Aletas de seção uniforme. Neste caso, a distribuição de temperaturas pode ser obtida explicitamente por alguma das equações da Tabela 3.4. Lembre-se que, como vimos em aula, o modelo de aleta infinita é adequada se $L \\le \\frac{2.65}{m}$, assim, a rigor, neste caso onde conhecemos o comprimento da aleta, podemos verificar se este modelo é adequado."
   ]
  },
  {
   "cell_type": "code",
   "execution_count": null,
   "id": "646ee5fb-769d-49c2-af30-68e5d0d0d9eb",
   "metadata": {},
   "outputs": [],
   "source": [
    "# Instantiate piniform fin\n",
    "# Si units: always!\n",
    "exL = 100e-3\n",
    "exD = 5e-3\n",
    "exh = 30.0\n",
    "exk = kLatao\n",
    "exTinf = 20.0\n",
    "exTbase = 200.0\n",
    "\n",
    "pinFin = FinPiniformRectangular(\n",
    "            length=exL,\n",
    "            diameter=exD,\n",
    "            htc=exh,\n",
    "            k=exk,\n",
    "            Tinf=exTinf,\n",
    "            Tbase=exTbase\n",
    "       )"
   ]
  },
  {
   "cell_type": "code",
   "execution_count": null,
   "id": "5fad88e0-f3f0-4f9d-8711-aa60c006874d",
   "metadata": {},
   "outputs": [],
   "source": [
    "pinFin.getmCoeffFin()*exL"
   ]
  },
  {
   "cell_type": "markdown",
   "id": "9ad36fd0-d7ae-4524-8fdc-7770ad3ad549",
   "metadata": {},
   "source": [
    "Como $mL < 2.65$, então não é \"seguro\" usar o modelo de aleta infinita. Assim, podemos prosseguir com os cálculos. Neste caso, vamos usar como base a condição com convecção na extremidade, como nada mais foi informado no problema (note: isto vai depender do problema). Podemos usar o código em Python neste caso pois ele está implementado com a condição de extremidade convectiva."
   ]
  },
  {
   "cell_type": "code",
   "execution_count": null,
   "id": "05821bf6-44a6-422a-9f93-48f6836ed664",
   "metadata": {},
   "outputs": [],
   "source": [
    "# Now we can easily get the temperatures in each position\n",
    "pinFin.getTemperature(25e-3)"
   ]
  },
  {
   "cell_type": "code",
   "execution_count": null,
   "id": "7bb41fab-1478-4e61-baf8-14638e3f534d",
   "metadata": {},
   "outputs": [],
   "source": [
    "# Now we can easily get the temperatures in each position\n",
    "pinFin.getTemperature(50e-3)"
   ]
  },
  {
   "cell_type": "code",
   "execution_count": null,
   "id": "351b955a-0833-4400-85a7-0cd87d0331f4",
   "metadata": {},
   "outputs": [],
   "source": [
    "# Now we can easily get the temperatures in each position\n",
    "pinFin.getTemperature(100e-3)"
   ]
  },
  {
   "cell_type": "markdown",
   "id": "0237dfcd-d548-4fc2-a343-09df1031947e",
   "metadata": {},
   "source": [
    "### Exercício 3.99 do livro-texto\n",
    "\n",
    "Pás de turbina montadas sobre um disco rotativo em um motor de turbina a gás estão expostas a uma corrente de gás a $T_\\infty = 1200 °C$, que mantém um coeficiente de transferência convectiva de calor sobre a pá de $h = 250 W/(m^2 K)$. As pás, fabricadas em Inconel, $k \\approx 20 W/(m K)$, têm um comprimento $L = 50 mm$. O perfil da pá possui uma área de seção transversal uniforme $A_{tr} = 6 \\times 10^{−4} m^2$ e um perímetro $P = 110 mm$. Um sistema proposto para o resfriamento das pás, que envolve a passagem de ar pelo disco de suporte, é capaz de manter a base de cada pá a uma temperatura de $T_b = 300 °C$.\n",
    "\n",
    "1. Sendo a temperatura máxima permissível para a pá de $1050 °C$ e a extremidade da pá podendo ser considerada adiabática, o sistema de resfriamento proposto é satisfatório?\n",
    "\n",
    "2. Para o sistema de resfriamento proposto, qual é a taxa na qual o calor é transferido de cada pá para o ar de resfriamento?"
   ]
  },
  {
   "cell_type": "code",
   "execution_count": null,
   "id": "33b0b3aa-74df-4437-91b0-e7db31146e95",
   "metadata": {},
   "outputs": [],
   "source": [
    "# Instantiate piniform fin\n",
    "# Si units: always!\n",
    "exL = 50e-3       # m\n",
    "exAreaTr = 6.0e-4 # m2\n",
    "exP = 110.0e-3    # m\n",
    "exh = 250.0       # W/m2K\n",
    "exk = 20.0        # W/mK\n",
    "exTinf = 1200.0   # Celsius\n",
    "exTbase = 300.0   # Celsius\n",
    "\n",
    "# Maximum temperature admissible in the fin\n",
    "exTmax = 1050.0   # Celsius"
   ]
  },
  {
   "cell_type": "markdown",
   "id": "75b7b271-bd4b-4aa3-a564-f437d27eedbc",
   "metadata": {},
   "source": [
    "We can use the ´FinUniformAtr´ to specify a fin with a generic section other then the piniform or rectangular cases. But in this case, we need to provide $A_{tr}$ and $P$: "
   ]
  },
  {
   "cell_type": "code",
   "execution_count": null,
   "id": "ae5a8529-689a-469f-94dc-861f6331030e",
   "metadata": {},
   "outputs": [],
   "source": [
    "pinFin = FinUniformAtr(\n",
    "            length=exL,\n",
    "            htc=exh,\n",
    "            k=exk,\n",
    "            Tinf=exTinf,\n",
    "            Tbase=exTbase,\n",
    "            area_tr=exAreaTr,\n",
    "            perimeter=exP\n",
    "       )"
   ]
  },
  {
   "cell_type": "markdown",
   "id": "af2f4e9d-dd38-4a55-971b-44ecd339bdfe",
   "metadata": {},
   "source": [
    "Os modelos descritos na Tabela 3.4 do livro-texto estão implementados aqui para aletas com área de seção uniforme e podem ser escolhidos nas funções \"getTemperature()\" e \"getHeatTransfer()\" das aletas instanciadas através do argumento \"model\". veja os exemplos:"
   ]
  },
  {
   "cell_type": "code",
   "execution_count": null,
   "id": "89f05c2a-fa47-44e3-b0a1-c605cfdf9ca3",
   "metadata": {},
   "outputs": [],
   "source": [
    "pinFin.getTemperature(exL, model=\"convective_tip\")"
   ]
  },
  {
   "cell_type": "code",
   "execution_count": null,
   "id": "1defcd7a-44a5-4f66-9e9b-53f718e7f743",
   "metadata": {},
   "outputs": [],
   "source": [
    "pinFin.getTemperature(exL, model=\"adiabatic_tip\")"
   ]
  },
  {
   "cell_type": "code",
   "execution_count": null,
   "id": "d8c9b754-978d-4983-9037-057690fbe362",
   "metadata": {},
   "outputs": [],
   "source": [
    "pinFin.getHeatTransfer(model=\"convective_tip\")"
   ]
  },
  {
   "cell_type": "code",
   "execution_count": null,
   "id": "1481ace7-0d0d-416f-aa01-8b915d7bd9ee",
   "metadata": {},
   "outputs": [],
   "source": [
    "pinFin.getHeatTransfer(model=\"adiabatic_tip\")"
   ]
  },
  {
   "cell_type": "markdown",
   "id": "db16f062-6293-4670-89cc-2d679699b961",
   "metadata": {},
   "source": [
    "No item 1., devemos calcular a distribuição de temperaturas na aleta toda e verificar se algum ponto estará com $T > 1050 C$. Se isto ocorrer, significa que o sistema de resfriamento não está sendo capaz de manter a temperatura da aleta abaixo da temperatura admissível.\n",
    "\n",
    "O código a seguir faz um gráfico da temperatura ao longo da aleta para este problema:"
   ]
  },
  {
   "cell_type": "code",
   "execution_count": null,
   "id": "21de9c0e-e41e-4032-b137-905eadc9be6b",
   "metadata": {},
   "outputs": [],
   "source": [
    "xRange = np.linspace(0, exL, 100)\n",
    "\n",
    "fig, ax = plt.subplots()\n",
    "\n",
    "sb.lineplot(\n",
    "    x=xRange,\n",
    "    y=np.array([\n",
    "        pinFin.getTemperature(\n",
    "            x,\n",
    "            model=\"adiabatic_tip\"\n",
    "        ) for x in xRange\n",
    "    ]),\n",
    "    ax=ax\n",
    ")\n",
    "\n",
    "ax.set(\n",
    "    xlabel=\"x (m)\",\n",
    "    ylabel=\"T (ºC)\",\n",
    "    # ylim=(exTbase, exTinf)\n",
    ")\n",
    "\n",
    "# Plot line to identify max and min\n",
    "sb.lineplot(x=xRange, y=exTinf)\n",
    "sb.lineplot(x=xRange, y=exTbase)\n",
    "sb.lineplot(x=xRange,y=exTmax)"
   ]
  },
  {
   "cell_type": "markdown",
   "id": "8bb84c2c-7b1f-438a-ad30-733af16c6011",
   "metadata": {},
   "source": [
    "Note que a temperatura da aleta não atinge $1050 ºC$ ao longo do seu comprimento. Assim, o sistema de resfriamento está sendo útil. A temperatura na extremidade da aleta e a taxa total de transferência de calor são:"
   ]
  },
  {
   "cell_type": "code",
   "execution_count": null,
   "id": "d085fa4e-037c-4c38-8a17-47c74542318d",
   "metadata": {},
   "outputs": [],
   "source": [
    "pinFin.getTemperature(exL, model=\"adiabatic_tip\")"
   ]
  },
  {
   "cell_type": "code",
   "execution_count": null,
   "id": "79056794-37af-4c5b-88e9-b93b7927d789",
   "metadata": {},
   "outputs": [],
   "source": [
    "pinFin.getHeatTransfer(model=\"adiabatic_tip\")"
   ]
  },
  {
   "cell_type": "markdown",
   "id": "1460cbb4-d14a-44c7-aaed-68241448c933",
   "metadata": {},
   "source": [
    "Note que usamos o modelo de extremidade adiabática. Entretantom faça os mesmo cálculos com o modelo de extremidade convectiva e você verá que a temperatura próxima à extremidade é maior que o limite! Assim, devemos selctionar cuidadosamente o modelo de acordo com o problema!"
   ]
  }
 ],
 "metadata": {
  "kernelspec": {
   "display_name": "Python [conda env:feb-lectures]",
   "language": "python",
   "name": "conda-env-feb-lectures-py"
  },
  "language_info": {
   "codemirror_mode": {
    "name": "ipython",
    "version": 3
   },
   "file_extension": ".py",
   "mimetype": "text/x-python",
   "name": "python",
   "nbconvert_exporter": "python",
   "pygments_lexer": "ipython3",
   "version": "3.9.18"
  }
 },
 "nbformat": 4,
 "nbformat_minor": 5
}
