{
 "cells": [
  {
   "cell_type": "markdown",
   "id": "8494dab2-f105-4a14-bd87-1e7f015bf2c9",
   "metadata": {},
   "source": [
    "## Condução de Calor\n",
    "\n",
    "Condução de calor é processo de transferência de energia térmica devido a um gradiente de temperaturas que ocorre devido ao movimento molecular ou das partículas que compõem o meio, no caso geral. No caso de sólido, isto ocorre devido aos elétrons livres em metais ou devido a vibração de retículos cristalinos em sólidos de maneira geral. \n",
    "\n",
    "### O Campo de Fluxo de Calor\n",
    "\n",
    "O fluxo de calor por condução em um meio 3D é calculado pela *lei de Fourier* que, no caso tridimensional, é dada por:\n",
    "\n",
    "\\begin{equation}\n",
    "    \\vec{q}^{\"}\n",
    "    =\n",
    "    -k \n",
    "    \\nabla T\n",
    "\\end{equation}\n",
    "\n",
    "sendo $k$ a condutividade térmica do material e T o campo de temperaturas no meio.\n",
    "\n",
    "O campo de temperaturas é representado por um *campo escalar* pois a temperatura é uma grandeza escalar. Se usarmos um sistema cartesiano de coordenadas, $(x,y,z)$, para representar o meio, então $T = T(x,y,z)$ e o gradiente assume a forma:\n",
    "\n",
    "\\begin{equation}\n",
    "    \\nabla T\n",
    "    =\n",
    "    \\frac{\\partial T}{\\partial x}\n",
    "    \\vec{i}\n",
    "    +\n",
    "    \\frac{\\partial T}{\\partial y}\n",
    "    \\vec{j}\n",
    "    +\n",
    "    \\frac{\\partial T}{\\partial z}\n",
    "    \\vec{k}\n",
    "\\end{equation}\n",
    "\n",
    "Assim, o gradiente também é uma função de $(x,y,z)$, de modo que o vetor fluxo de calor, $\\vec{q}^{\"}$, também varia com $(x,y,z)$, sendo assim um *campo vetorial*. Vejamos um exemplo de um campo de temperaturas 2D que pode ser representado por: $T(x,y) = 10 - x^2 - y^2$. Podemos imaginar que este campo se aplica ao campo de um cilindro cujo wixo está ao longo do eixo $z$. Este campo, então, está definido *em uma seção do cilindro*, como discutimos em sala de aula."
   ]
  },
  {
   "cell_type": "code",
   "execution_count": null,
   "id": "ed0b399b-6fa0-463e-a593-157a76f75121",
   "metadata": {},
   "outputs": [],
   "source": [
    "%matplotlib ipympl"
   ]
  },
  {
   "cell_type": "code",
   "execution_count": null,
   "id": "7566c9b3-2d6c-4714-b85c-c34cf99b97fd",
   "metadata": {},
   "outputs": [],
   "source": [
    "import os, sys\n",
    "import numpy as np\n",
    "from matplotlib import pyplot as plt"
   ]
  },
  {
   "cell_type": "markdown",
   "id": "1f359bed-c5ce-49b5-8517-1e7a8bcf9db3",
   "metadata": {},
   "source": [
    "Vamos supor que este cilindro tem raio 3 (as dimensões para este exemplo não são essenciais). \n",
    "A próxima célula define este campo como uma função na linguagem Python:"
   ]
  },
  {
   "cell_type": "code",
   "execution_count": null,
   "id": "57534b57-86e6-4675-8981-4b5dfda1c6ce",
   "metadata": {},
   "outputs": [],
   "source": [
    "radius = 3.0\n",
    "\n",
    "# Define tempratura function field\n",
    "def T(x, y):\n",
    "    return radius**2 - x**2 - y**2"
   ]
  },
  {
   "cell_type": "markdown",
   "id": "4c2b7e27-328f-4a0d-85ff-33d78282cfb1",
   "metadata": {},
   "source": [
    "Agora, como conhecemos o campo de temperaturas, vamos criar uma outra função que fornece o campo vetorial de fluxo de calor por condução. Neste caso, e supondo um material com condutividade térmica de $k = 1 W/mK$, temos:\n",
    "\n",
    "\\begin{equation}\n",
    "    \\vec{q}^{\"}(x,y)\n",
    "    = \n",
    "    -\\nabla T\n",
    "    =\n",
    "    -2x \\vec{i}\n",
    "    -2y \\vec{j}\n",
    "\\end{equation}\n",
    "\n",
    "A seguir, implementamos este campo vetorial como uma função em Python:"
   ]
  },
  {
   "cell_type": "code",
   "execution_count": null,
   "id": "7b34a045-fc70-4ff7-8216-8b39781bae99",
   "metadata": {},
   "outputs": [],
   "source": [
    " # Define flux vector field\n",
    "def fluxVecField(x, y):\n",
    "    return np.array(\n",
    "                [2.0*x,\n",
    "                 2.0*y]\n",
    "            )"
   ]
  },
  {
   "cell_type": "markdown",
   "id": "e9d36c59-f807-461d-991c-04acd7525b93",
   "metadata": {},
   "source": [
    "Vamos agora visualizar estes campos para que você entenda melhor como eles representam as grandezes de interesse em Transferência de Calor.\n",
    "Execute as próximas duas células para você ver a distribuição de temperaturas em um plano em um quadrado de lados 6x6."
   ]
  },
  {
   "cell_type": "code",
   "execution_count": null,
   "id": "748b05ae-2141-49cb-8662-129b7f17ba13",
   "metadata": {},
   "outputs": [],
   "source": [
    "def createCylinderSectionDomain(resolution=25):\n",
    "    # Create the domain in polar coordinates to create a \n",
    "    # circular section\n",
    "    rCoord = np.linspace(0, radius, resolution)\n",
    "    pCoord = np.linspace(0, 2.0*np.pi, resolution)\n",
    "    \n",
    "    R, P = np.meshgrid(rCoord, pCoord)\n",
    "    \n",
    "    # Express the mesh in the cartesian system\n",
    "    return R*np.cos(P), R*np.sin(P)"
   ]
  },
  {
   "cell_type": "code",
   "execution_count": null,
   "id": "2533a760-8f18-481b-8e4d-f16d195490ef",
   "metadata": {},
   "outputs": [],
   "source": [
    "X, Y = createCylinderSectionDomain(resolution=50)\n",
    "\n",
    "Ts = np.array(\n",
    "        T(np.ravel(X), np.ravel(Y))\n",
    "    )\n",
    "\n",
    "TField = Ts.reshape(X.shape)"
   ]
  },
  {
   "cell_type": "code",
   "execution_count": null,
   "id": "0bd0868d-ce27-4efa-9b4d-e5e446bc4d85",
   "metadata": {},
   "outputs": [],
   "source": [
    "fig = plt.figure()\n",
    "ax = fig.add_subplot(projection=\"3d\")\n",
    "\n",
    "ax.plot_surface(\n",
    "    X, Y,\n",
    "    TField,\n",
    "    cmap=\"inferno\"\n",
    ")\n",
    "\n",
    "ax.contourf(\n",
    "    X, Y,\n",
    "    TField,\n",
    "    cmap='inferno',\n",
    "    offset=-10\n",
    ")\n",
    "\n",
    "ax.set(\n",
    "    zlim=(-radius**2, radius**2)\n",
    ")\n",
    "\n",
    "ax.set_xlabel(\"x\")\n",
    "ax.set_ylabel(\"y\")\n",
    "ax.set_zlabel(\"T(x,y)\")\n",
    "\n",
    "plt.show()"
   ]
  },
  {
   "cell_type": "code",
   "execution_count": null,
   "id": "016c1ca7-cd64-4e4f-957b-09706b60a1c3",
   "metadata": {},
   "outputs": [],
   "source": [
    "# To clean up figure\n",
    "plt.clf()"
   ]
  },
  {
   "attachments": {},
   "cell_type": "markdown",
   "id": "6d4fea51-7988-4fea-bc66-515247938d17",
   "metadata": {},
   "source": [
    "Esta grande superfície que você vê é apenas uma forma de representar o campo de temperaturas no domínio. Na base você vê uma outra forma de visualizar este campo através de *curvas de nível*, que provavelmente você se lembra das aulas de Cálculo.\n",
    "\n",
    "Vamos agora visualizar o campo vetorial de fluxo de calor gerado por este campo de temperaturas. Veja mais uma vez o comportamento deste campo de temperaturas... O calor se propaga da região de maior para menor temperatura, logo você conseguiria imaginar facilmente como se dá o campo de fluxo."
   ]
  },
  {
   "cell_type": "code",
   "execution_count": null,
   "id": "0cc7ee98-e9a9-4fda-9fdd-45e478d3d54c",
   "metadata": {},
   "outputs": [],
   "source": [
    "newX, newY = createCylinderSectionDomain(resolution=10)\n",
    "\n",
    "flux = fluxVecField(newX, newY)"
   ]
  },
  {
   "cell_type": "code",
   "execution_count": null,
   "id": "82ef06de-2af6-4c18-a5d4-1385d0f0d941",
   "metadata": {},
   "outputs": [],
   "source": [
    "fig, ax = plt.subplots()\n",
    "\n",
    "plot = ax.contourf(\n",
    "    X, Y,\n",
    "    TField,\n",
    "    cmap='inferno'\n",
    ")\n",
    "\n",
    "ax.quiver(\n",
    "    newX, newY,\n",
    "    flux[0], flux[1]\n",
    ")\n",
    "\n",
    "fig.colorbar(plot, ax=ax, shrink=0.5, aspect=10)\n",
    "\n",
    "ax.set_xlim(-1.1*radius, 1.1*radius)\n",
    "ax.set_ylim(-1.1*radius, 1.1*radius)\n",
    "\n",
    "ax.set_xlabel(\"x\")\n",
    "ax.set_ylabel(\"y\")\n",
    "ax.set_title(\"Curvas de Nível de T(x,y) e Vetores de Fluxo\")\n",
    "\n",
    "plt.show()"
   ]
  },
  {
   "cell_type": "markdown",
   "id": "94c67c0e-6394-4d82-8157-5ca569cc4317",
   "metadata": {},
   "source": [
    "Neste gráfico, vemos mais uma vez a seção do cilindro com as linhas de temperatura que crescem com uma simetria circular. Além disso, note que os vetores de fluxo de calor estão ao longo de linhas radiais... Pense: deveríamos esperar este comportamente? De suas aulas de Cálculo, você deveria se lembrar que sim! O vetor gradiente fornece o sentido e direção de maior crescimento de uma função **E** é sempre *perpendicular* às curvas de nível de uma função! É possível ver claramente isto na imagem acima: as curvas de nível da temperatura são circulos e os vetores de fluxo estão ao longo dos raios do cilindro. Isto ocorre devido à forma da Lei de Fourier que estabelece que o fluxo de calor é proporcional ao gradiente de temperaturas."
   ]
  },
  {
   "cell_type": "code",
   "execution_count": null,
   "id": "cf6cbda4-6829-4704-b0a1-869511094db9",
   "metadata": {},
   "outputs": [],
   "source": []
  }
 ],
 "metadata": {
  "kernelspec": {
   "display_name": "Python [conda env:feb-lectures]",
   "language": "python",
   "name": "conda-env-feb-lectures-py"
  },
  "language_info": {
   "codemirror_mode": {
    "name": "ipython",
    "version": 3
   },
   "file_extension": ".py",
   "mimetype": "text/x-python",
   "name": "python",
   "nbconvert_exporter": "python",
   "pygments_lexer": "ipython3",
   "version": "3.9.18"
  }
 },
 "nbformat": 4,
 "nbformat_minor": 5
}
