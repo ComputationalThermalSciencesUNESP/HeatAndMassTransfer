{
 "cells": [
  {
   "cell_type": "code",
   "execution_count": 1,
   "id": "90172cfe-faf6-4bb4-bb85-132a67823411",
   "metadata": {},
   "outputs": [],
   "source": [
    "import os, sys\n",
    "import numpy as np\n",
    "import pandas as pd\n",
    "from typing import Union\n",
    "\n",
    "import matplotlib.pyplot as plt\n",
    "import seaborn as sb\n",
    "\n",
    "import ipywidgets as widgets\n",
    "from IPython.display import display"
   ]
  },
  {
   "cell_type": "code",
   "execution_count": 2,
   "id": "8cca0c00",
   "metadata": {},
   "outputs": [],
   "source": [
    "# sb.set_context(\n",
    "#     \"talk\",\n",
    "#     font_scale=1.2\n",
    "# )\n",
    "\n",
    "sb.set_style(\n",
    "    \"darkgrid\"\n",
    ")\n",
    "\n",
    "layout = widgets.Layout(\n",
    "            width=\"50%\"\n",
    "         )\n",
    "\n",
    "style  = {\"description_width\": \"initial\"}"
   ]
  },
  {
   "cell_type": "code",
   "execution_count": 3,
   "id": "2b98c6df",
   "metadata": {},
   "outputs": [],
   "source": [
    "# Physical constants for parametric analysis\n",
    "kCu = 398.0 # W/mK\n",
    "kAl = 180.0 # W/mK\n",
    "kSteel = 14.0 # W/mK\n",
    "\n",
    "hNaturalConv = 5.0 # W/m2K\n",
    "hForcedConv  = 1000.0 # W/m2K\n",
    "hIntermediate = 100.0 "
   ]
  },
  {
   "cell_type": "code",
   "execution_count": 4,
   "id": "048390c9",
   "metadata": {},
   "outputs": [],
   "source": [
    "# Sliders for interactive plots \n",
    "thermalCondSlider = widgets.FloatSlider(\n",
    "    value=kCu,\n",
    "    min=kSteel,\n",
    "    max=kCu,\n",
    "    step=(kCu - kSteel)/100,\n",
    "    description=\"k (W/mK)\",\n",
    "    readout_format='.1f',\n",
    "    layout=layout,\n",
    "    style=style\n",
    ")\n",
    "\n",
    "htcSlider = widgets.FloatSlider(\n",
    "    value=hIntermediate,\n",
    "    min=hNaturalConv,\n",
    "    max=hForcedConv,\n",
    "    step=(hForcedConv - hNaturalConv)/500,\n",
    "    description=\"h (W/m2K)\",\n",
    "    readout_format='.1f',\n",
    "    layout=layout,\n",
    "    style=style\n",
    ")"
   ]
  },
  {
   "cell_type": "code",
   "execution_count": 5,
   "id": "f6384949-088c-40e8-ae1b-b23f91b56f57",
   "metadata": {},
   "outputs": [],
   "source": [
    "\n",
    "\n",
    "def temperatureFinInfLength(\n",
    "        x: float,\n",
    "        htc: float,\n",
    "        k: float,\n",
    "        perimeter: float,\n",
    "        area_tr: float,\n",
    "        Tinf: float,\n",
    "        Tbase: float\n",
    "    )   -> float:\n",
    "                         \n",
    "    thetaB = diffTemp(Tbase, Tinf)\n",
    "    \n",
    "    m = mCoeffFin(\n",
    "            htc,\n",
    "            k,\n",
    "            perimeter,\n",
    "            area_tr\n",
    "        )\n",
    "    \n",
    "    return Tinf + thetaB*np.exp(-m*x)"
   ]
  },
  {
   "cell_type": "code",
   "execution_count": 6,
   "id": "6f627fab",
   "metadata": {},
   "outputs": [],
   "source": [
    "def heatTransferFinActiveBoundary(\n",
    "        length: float,\n",
    "        htc: float,\n",
    "        k: float,\n",
    "        perimeter: float,\n",
    "        area_tr: float,\n",
    "        Tinf: float,\n",
    "        Tbase: float\n",
    "    )   -> float:\n",
    "    \n",
    "    m = mCoeffFin(\n",
    "            htc,\n",
    "            k,\n",
    "            perimeter,\n",
    "            area_tr\n",
    "        )\n",
    "    \n",
    "    M = MCoeffFin(\n",
    "            htc,\n",
    "            k,\n",
    "            perimeter,\n",
    "            area_tr,\n",
    "            Tinf,\n",
    "            Tbase\n",
    "        )\n",
    "    \n",
    "    coeff = htc/(m*k)\n",
    "    \n",
    "    return M*(\n",
    "                np.sinh(m*length) + coeff*np.cosh(m*length)\n",
    "           )/(\n",
    "                np.cosh(m*length) + coeff*np.sinh(m*length)\n",
    "           )\n",
    "\n",
    "def heatTransferFinInfLength(\n",
    "        htc: float,\n",
    "        k: float,\n",
    "        perimeter: float,\n",
    "        area_tr: float,\n",
    "        Tinf: float,\n",
    "        Tbase: float\n",
    "    )   -> float:\n",
    "                         \n",
    "    \n",
    "    M = MCoeffFin(\n",
    "            htc,\n",
    "            k,\n",
    "            perimeter,\n",
    "            area_tr,\n",
    "            Tinf,\n",
    "            Tbase\n",
    "        )\n",
    "    \n",
    "    return M"
   ]
  },
  {
   "cell_type": "code",
   "execution_count": 7,
   "id": "46e040d9",
   "metadata": {},
   "outputs": [],
   "source": [
    "def finEfficiency(\n",
    "        length: float,\n",
    "        htc: float,\n",
    "        k: float,\n",
    "        perimeter: float,\n",
    "        area_tr: float,\n",
    "        Tinf: float,\n",
    "        Tbase: float,\n",
    "        fin_area: float\n",
    "    )   -> float:\n",
    "    \n",
    "    qa = heatTransferFinActiveBoundary(\n",
    "            length=length,\n",
    "            htc=htc,\n",
    "            k=k,\n",
    "            perimeter=perimeter,\n",
    "            area_tr=area_tr,\n",
    "            Tinf=Tinf,\n",
    "            Tbase=Tbase\n",
    "        )\n",
    "    \n",
    "    return qa/(htc*fin_area*diffTemp(Tbase,Tinf))"
   ]
  },
  {
   "cell_type": "code",
   "execution_count": 8,
   "id": "948b5bd7",
   "metadata": {},
   "outputs": [],
   "source": [
    "class FinUniformAtr():\n",
    "    \n",
    "    def __init__(\n",
    "            self,\n",
    "            htc: float,\n",
    "            k: float,\n",
    "            Tinf: float,\n",
    "            Tbase: float\n",
    "        ):\n",
    "        \"\"\"Initiate fin geometric model.\"\"\"\n",
    "        \n",
    "        self._h = htc\n",
    "        self._k = k\n",
    "        self._Tinf = Tinf\n",
    "        self._Tbase = Tbase\n",
    "        \n",
    "        self._thetaB = Tbase - Tinf\n",
    "       \n",
    "    def mCoeffFin(self):\n",
    "        return np.sqrt(\n",
    "                   self._h*self._perimeter/(self._k*self._area_tr)\n",
    "               )\n",
    "        \n",
    "    def MCoeffFin(self):\n",
    "        return np.sqrt(\n",
    "                   self._h*self._perimeter*self._k*self._area_tr\n",
    "               )*self._thetaB\n",
    "\n",
    "    def _temperatureFinActiveBoundary(\n",
    "            self\n",
    "        )   -> float:\n",
    "    \n",
    "        # This function must return an array\n",
    "        xRange = np.linspace(0.0, self._L, 100)\n",
    "                        \n",
    "        thetaB = self._Tbase - self._Tinf\n",
    "        \n",
    "        m = self.mCoeffFin()\n",
    "        M = self.MCoeffFin()\n",
    "        \n",
    "        arg   = m*(self._L - xRange)\n",
    "        coeff = self._h/(m*self._k)\n",
    "        \n",
    "        thetaRatio = (\n",
    "                         np.cosh(arg) + coeff*np.sinh(arg)\n",
    "                     )/(\n",
    "                         np.cosh(m*self._L) + coeff*np.sinh(m*self._L)\n",
    "                     )\n",
    "        \n",
    "        return self._Tinf + thetaRatio*thetaB\n",
    "    \n",
    "    def temperatureDistribution(self):\n",
    "        \"\"\"Compute temperature distribution in a planar fin.\"\"\"\n",
    "        \n",
    "        return self._temperatureFinActiveBoundary()\n",
    "\n",
    "    def heatTransfer(self):\n",
    "        \n",
    "        # By using the equivalent length\n",
    "        # the heat transfer can be approximated\n",
    "        # by the equation for the adiabatic tip\n",
    "        return self._M*np.tanh(self._m*self._Lc)\n",
    "            \n",
    "    def efficiency(self):\n",
    "        \n",
    "        qMax = self._h*self._area_fin*self._thetaB\n",
    "        \n",
    "        return self.heatTransfer()/qMax\n",
    "    \n",
    "    def effectiveness(self):\n",
    "        \n",
    "        qBaseNoFin = self._h*self._area_tr*self._thetaB\n",
    "        \n",
    "        return self.heatTransfer()/qBaseNoFin\n",
    "    \n",
    "    def getLength(self):\n",
    "        \"\"\"Get fin length.\"\"\"\n",
    "        \n",
    "        return self._L\n",
    "              \n",
    "    def getPerimeter(self):\n",
    "        \"\"\"Get fin perimeter.\"\"\"\n",
    "        \n",
    "        return self._perimeter\n",
    "    \n",
    "    def getSurfaceArea(self):\n",
    "        \"\"\"Get fin surface area.\"\"\"\n",
    "        \n",
    "        return self._area_fin\n",
    "    \n",
    "    def getTrArea(self):\n",
    "        \"\"\"Get fin section area.\"\"\"\n",
    "        \n",
    "        return self._area_tr"
   ]
  },
  {
   "cell_type": "code",
   "execution_count": 9,
   "id": "96a01c1b",
   "metadata": {},
   "outputs": [],
   "source": [
    "class PlanarFin(FinUniformAtr):\n",
    "    \n",
    "    def __init__(\n",
    "            self,\n",
    "            length: float,\n",
    "            width: float,\n",
    "            thickness: float,\n",
    "            htc: float,\n",
    "            k: float,\n",
    "            Tinf: float,\n",
    "            Tbase: float\n",
    "        ):\n",
    "        \"\"\"Initiate fin geometric model.\"\"\"\n",
    "        \n",
    "        FinUniformAtr.__init__(\n",
    "            self,\n",
    "            htc=htc,\n",
    "            k=k,\n",
    "            Tbase=Tbase,\n",
    "            Tinf=Tinf\n",
    "        )\n",
    "        \n",
    "        # Rectangular planar fin \n",
    "        self._L = length\n",
    "        self._w = width\n",
    "        self._t = thickness\n",
    "        \n",
    "        # Equivalent length to compute efficiency\n",
    "        self._Lc = self._L + 0.5*self._t\n",
    "        \n",
    "        self._perimeter = 2*self._w + 2*self._t\n",
    "        self._area_fin  = self._Lc*self._perimeter\n",
    "        self._area_tr   = self._w*self._t\n",
    "        self._area_prof = self._t*self._L\n",
    "        \n",
    "        # Their computattion depends on the geometry\n",
    "        self._m = self.mCoeffFin()\n",
    "        self._M = self.MCoeffFin()"
   ]
  },
  {
   "cell_type": "code",
   "execution_count": 10,
   "id": "c263b6db",
   "metadata": {},
   "outputs": [],
   "source": [
    "class PiniformFin(FinUniformAtr):\n",
    "    \n",
    "    def __init__(\n",
    "            self,\n",
    "            length: float,\n",
    "            diameter: float,\n",
    "            htc: float,\n",
    "            k: float,\n",
    "            Tinf: float,\n",
    "            Tbase: float\n",
    "        ):\n",
    "        \"\"\"Initiate fin geometric model.\"\"\"\n",
    "        \n",
    "        FinUniformAtr.__init__(\n",
    "            self,\n",
    "            htc=htc,\n",
    "            k=k,\n",
    "            Tbase=Tbase,\n",
    "            Tinf=Tinf\n",
    "        )\n",
    "            \n",
    "        # Rectangular piniform fin test\n",
    "        self._L = length\n",
    "        self._D = diameter\n",
    "        \n",
    "        # Equivalent length to compute efficiency\n",
    "        self._Lc = self._L + 0.25*self._D\n",
    "        \n",
    "        self._perimeter = np.pi*self._D\n",
    "        self._area_fin  = self._Lc*self._perimeter\n",
    "        \n",
    "        self._area_tr   = 0.25*np.pi*self._D**2\n",
    "        self._area_prof = self._D*self._L\n",
    "        \n",
    "        # Their computattion depends on the geometry\n",
    "        self._m = self.mCoeffFin()\n",
    "        self._M = self.MCoeffFin()"
   ]
  },
  {
   "cell_type": "code",
   "execution_count": 11,
   "id": "74a3f1bd",
   "metadata": {},
   "outputs": [],
   "source": [
    "class TriangularFin():\n",
    "    \n",
    "    def __init__(\n",
    "            self,\n",
    "            length: float,\n",
    "            width: float,\n",
    "            thickness: float,\n",
    "            htc: float,\n",
    "            k: float,\n",
    "            Tinf: float,\n",
    "            Tbase: float\n",
    "        ):\n",
    "        \"\"\"Initiate fin geometric model.\"\"\"\n",
    "        \n",
    "        FinUniformAtr.__init__(\n",
    "            self,\n",
    "            htc=htc,\n",
    "            k=k,\n",
    "            Tbase=Tbase,\n",
    "            Tinf=Tinf\n",
    "        )\n",
    "        \n",
    "        # Rectangular planar fin \n",
    "        self._L = length\n",
    "        self._w = width\n",
    "        self._t = thickness\n",
    "        \n",
    "        # These two change with x\n",
    "        self._perimeter = 2*self._w + 2*self._t\n",
    "        self._area_tr   = self._w*self._t\n",
    "        \n",
    "        # Areas\n",
    "        self._area_fin  = 2*self._w*np.sqrt(\n",
    "                                self._L**2 + 0.25*self._t**2\n",
    "                            )\n",
    "        \n",
    "        self._area_prof = self._t*self._L\n",
    "        \n",
    "        # Their computattion depends on the geometry\n",
    "        # These two have to be defined here\n",
    "        self._m = self.mCoeffFin()\n",
    "        self._M = self.MCoeffFin()"
   ]
  },
  {
   "cell_type": "markdown",
   "id": "c80fbd66",
   "metadata": {},
   "source": [
    "## Análise do Exemplo 3.9 Item 1 do Livro-texto\n",
    "\n",
    "Um bastão muito longo, com 5 mm de diâmetro, tem uma de suas extremidades mantida a 100 °C. A superfície do bastão está exposta ao ar ambiente a 25 °C, com um coeficiente de transferência de calor por convecção de 100 $W/(m^2·K)$.\n",
    "\n",
    "1. Determine as distribuições de temperaturas ao longo de bastões construídos em cobre puro, liga de alumínio 2024 e aço inoxidável AISI 316. Quais são as respectivas taxas de perda de calor nos bastões?"
   ]
  },
  {
   "cell_type": "code",
   "execution_count": 12,
   "id": "c73f896f",
   "metadata": {},
   "outputs": [],
   "source": [
    "# Dados do problema\n",
    "exHtc   = 100.0 # W/m2K\n",
    "exTbase = 100.0 # Celsius\n",
    "exTinf  = 25.0 # Celsius\n",
    "\n",
    "# Dimensions\n",
    "exFinRadius = 2.5e-3 # meters"
   ]
  },
  {
   "cell_type": "markdown",
   "id": "d6951f3b",
   "metadata": {},
   "source": [
    "Vamos supor um comprimento $L = 300 mm$ para esta aleta para avaliarmos o campo de temperatura na mesma."
   ]
  },
  {
   "cell_type": "code",
   "execution_count": 13,
   "id": "23d958be-c324-4573-81d8-22d62007a7d3",
   "metadata": {},
   "outputs": [],
   "source": [
    "finLength = 0.3 # meters"
   ]
  },
  {
   "cell_type": "markdown",
   "id": "8313aa37",
   "metadata": {},
   "source": [
    "A implementação feita aqui usa classes em Python para encapsular todas as operações necessárias para estudarmos aletas. Podemos instanciar um objeto da classe \"PiniformFin\" (aleta piniforme com área de seção uniforme) e informar as grandezas da mesma.\n",
    "\n",
    "Apenas como exemplo do tipo de interação possível, vamos instanciar um objeto de aleta com a condutividade do cobre. Todas as grandezas devem ser dadas em unidades do SI, com exceção da temperatura que pode ser informada em graus Celsius."
   ]
  },
  {
   "cell_type": "code",
   "execution_count": 14,
   "id": "f0e07458",
   "metadata": {},
   "outputs": [],
   "source": [
    "pinFin = PiniformFin(\n",
    "            length=finLength,\n",
    "            diameter=2*exFinRadius,\n",
    "            htc=exHtc,\n",
    "            k=kCu,\n",
    "            Tinf=exTinf,\n",
    "            Tbase=exTbase\n",
    "       )"
   ]
  },
  {
   "cell_type": "markdown",
   "id": "6501d9b1",
   "metadata": {},
   "source": [
    "Agora podemos acessar as grandezas da mesma usados suas chamadas \"funções membro\", como segue: "
   ]
  },
  {
   "cell_type": "code",
   "execution_count": 15,
   "id": "e55f841a",
   "metadata": {},
   "outputs": [
    {
     "data": {
      "text/plain": [
       "0.004732023934469626"
      ]
     },
     "execution_count": 15,
     "metadata": {},
     "output_type": "execute_result"
    }
   ],
   "source": [
    "# Area da superfície\n",
    "pinFin.getSurfaceArea() "
   ]
  },
  {
   "cell_type": "code",
   "execution_count": 16,
   "id": "6df16e95",
   "metadata": {},
   "outputs": [
    {
     "data": {
      "text/plain": [
       "0.015707963267948967"
      ]
     },
     "execution_count": 16,
     "metadata": {},
     "output_type": "execute_result"
    }
   ],
   "source": [
    "# Perímetro\n",
    "pinFin.getPerimeter() "
   ]
  },
  {
   "cell_type": "code",
   "execution_count": 17,
   "id": "5ae637b3",
   "metadata": {},
   "outputs": [
    {
     "data": {
      "text/plain": [
       "1.9634954084936207e-05"
      ]
     },
     "execution_count": 17,
     "metadata": {},
     "output_type": "execute_result"
    }
   ],
   "source": [
    "# Area da seção transversal\n",
    "pinFin.getTrArea()"
   ]
  },
  {
   "cell_type": "code",
   "execution_count": 18,
   "id": "94ec051c",
   "metadata": {},
   "outputs": [
    {
     "data": {
      "text/plain": [
       "8.306311707704959"
      ]
     },
     "execution_count": 18,
     "metadata": {},
     "output_type": "execute_result"
    }
   ],
   "source": [
    "# Taxa total de transf. de calor (W)\n",
    "pinFin.heatTransfer()"
   ]
  },
  {
   "cell_type": "code",
   "execution_count": 19,
   "id": "cae979a5",
   "metadata": {},
   "outputs": [
    {
     "data": {
      "text/plain": [
       "56.40493086478194"
      ]
     },
     "execution_count": 19,
     "metadata": {},
     "output_type": "execute_result"
    }
   ],
   "source": [
    "# Effetividade\n",
    "pinFin.effectiveness()"
   ]
  },
  {
   "cell_type": "code",
   "execution_count": 20,
   "id": "a29cd0eb",
   "metadata": {},
   "outputs": [
    {
     "data": {
      "text/plain": [
       "0.2340453562854022"
      ]
     },
     "execution_count": 20,
     "metadata": {},
     "output_type": "execute_result"
    }
   ],
   "source": [
    "# Efficiency\n",
    "pinFin.efficiency()"
   ]
  },
  {
   "cell_type": "markdown",
   "id": "3d846011",
   "metadata": {},
   "source": [
    "Vamos agora à comparação da distribuição de temperaturas para os 3 casos de materias considerados da aleta piniforme. Bastar executar o código a seguir. A efetividade de cada caso é mostrada na legenda da figura."
   ]
  },
  {
   "cell_type": "code",
   "execution_count": 21,
   "id": "bfcea3d5",
   "metadata": {},
   "outputs": [
    {
     "name": "stderr",
     "output_type": "stream",
     "text": [
      "/home/iloliveira/miniconda3/envs/feb-lectures/lib/python3.10/site-packages/seaborn/_oldcore.py:1498: FutureWarning: is_categorical_dtype is deprecated and will be removed in a future version. Use isinstance(dtype, CategoricalDtype) instead\n",
      "  if pd.api.types.is_categorical_dtype(vector):\n",
      "/home/iloliveira/miniconda3/envs/feb-lectures/lib/python3.10/site-packages/seaborn/_oldcore.py:1498: FutureWarning: is_categorical_dtype is deprecated and will be removed in a future version. Use isinstance(dtype, CategoricalDtype) instead\n",
      "  if pd.api.types.is_categorical_dtype(vector):\n",
      "/home/iloliveira/miniconda3/envs/feb-lectures/lib/python3.10/site-packages/seaborn/_oldcore.py:1119: FutureWarning: use_inf_as_na option is deprecated and will be removed in a future version. Convert inf values to NaN before operating instead.\n",
      "  with pd.option_context('mode.use_inf_as_na', True):\n",
      "/home/iloliveira/miniconda3/envs/feb-lectures/lib/python3.10/site-packages/seaborn/_oldcore.py:1119: FutureWarning: use_inf_as_na option is deprecated and will be removed in a future version. Convert inf values to NaN before operating instead.\n",
      "  with pd.option_context('mode.use_inf_as_na', True):\n",
      "/home/iloliveira/miniconda3/envs/feb-lectures/lib/python3.10/site-packages/seaborn/_oldcore.py:1498: FutureWarning: is_categorical_dtype is deprecated and will be removed in a future version. Use isinstance(dtype, CategoricalDtype) instead\n",
      "  if pd.api.types.is_categorical_dtype(vector):\n",
      "/home/iloliveira/miniconda3/envs/feb-lectures/lib/python3.10/site-packages/seaborn/_oldcore.py:1498: FutureWarning: is_categorical_dtype is deprecated and will be removed in a future version. Use isinstance(dtype, CategoricalDtype) instead\n",
      "  if pd.api.types.is_categorical_dtype(vector):\n",
      "/home/iloliveira/miniconda3/envs/feb-lectures/lib/python3.10/site-packages/seaborn/_oldcore.py:1119: FutureWarning: use_inf_as_na option is deprecated and will be removed in a future version. Convert inf values to NaN before operating instead.\n",
      "  with pd.option_context('mode.use_inf_as_na', True):\n",
      "/home/iloliveira/miniconda3/envs/feb-lectures/lib/python3.10/site-packages/seaborn/_oldcore.py:1119: FutureWarning: use_inf_as_na option is deprecated and will be removed in a future version. Convert inf values to NaN before operating instead.\n",
      "  with pd.option_context('mode.use_inf_as_na', True):\n",
      "/home/iloliveira/miniconda3/envs/feb-lectures/lib/python3.10/site-packages/seaborn/_oldcore.py:1498: FutureWarning: is_categorical_dtype is deprecated and will be removed in a future version. Use isinstance(dtype, CategoricalDtype) instead\n",
      "  if pd.api.types.is_categorical_dtype(vector):\n",
      "/home/iloliveira/miniconda3/envs/feb-lectures/lib/python3.10/site-packages/seaborn/_oldcore.py:1498: FutureWarning: is_categorical_dtype is deprecated and will be removed in a future version. Use isinstance(dtype, CategoricalDtype) instead\n",
      "  if pd.api.types.is_categorical_dtype(vector):\n",
      "/home/iloliveira/miniconda3/envs/feb-lectures/lib/python3.10/site-packages/seaborn/_oldcore.py:1119: FutureWarning: use_inf_as_na option is deprecated and will be removed in a future version. Convert inf values to NaN before operating instead.\n",
      "  with pd.option_context('mode.use_inf_as_na', True):\n",
      "/home/iloliveira/miniconda3/envs/feb-lectures/lib/python3.10/site-packages/seaborn/_oldcore.py:1119: FutureWarning: use_inf_as_na option is deprecated and will be removed in a future version. Convert inf values to NaN before operating instead.\n",
      "  with pd.option_context('mode.use_inf_as_na', True):\n"
     ]
    },
    {
     "data": {
      "image/png": "[encoded data removed]",
      "text/plain": [
       "<Figure size 800x800 with 1 Axes>"
      ]
     },
     "metadata": {},
     "output_type": "display_data"
    }
   ],
   "source": [
    "fig, axes = plt.subplots(\n",
    "                figsize=(8,8)\n",
    "            )\n",
    "\n",
    "for k, label in zip([kCu, kAl, kSteel],\n",
    "                    [\"Cobre\", \"Alumínio\", \"Aço\"]):\n",
    "    \n",
    "    # Instantiate piniform fin model\n",
    "    pinFin = PiniformFin(\n",
    "                 length=finLength,\n",
    "                 diameter=2*exFinRadius,\n",
    "                 htc=exHtc,\n",
    "                 k=k,\n",
    "                 Tinf=exTinf,\n",
    "                 Tbase=exTbase\n",
    "             )\n",
    "\n",
    "    # Get temperature distribution\n",
    "    pinTemp = pinFin.temperatureDistribution()\n",
    "    \n",
    "    xRange = np.linspace(\n",
    "                    0.0,\n",
    "                    pinFin.getLength(),\n",
    "                    len(pinTemp)\n",
    "            )\n",
    "\n",
    "    sb.lineplot(\n",
    "        x=xRange,\n",
    "        y=pinTemp,\n",
    "        label=f\"{label} {pinFin.effectiveness():.2f}\",\n",
    "        ax=axes\n",
    "    )\n",
    "\n",
    "    axes.set(\n",
    "        ylabel=\"T (ºC)\",\n",
    "        xlabel=\"x (m)\",\n",
    "        title=\"Comparação de T(x) para diferentes materiais \\n Aleta piniforme\",\n",
    "        ylim=(20,105)\n",
    "    )"
   ]
  },
  {
   "cell_type": "markdown",
   "id": "1a8a2ab2",
   "metadata": {},
   "source": [
    "Claramente a efetividade da aleta de aço é menor, o que é esperado. A efetividade da aleta é melhorada quando selecionamos um material com maior condutividade térmica.\n",
    "\n",
    "Uma versão interativa deste gráfico pode ser encontrado com o código a seguir. Use os \"sliders\" para controlar o valor:\n",
    "\n",
    "1. da condutividade térmica;\n",
    "2. do coef. de transferência de calor por conveccção;\n",
    "3. e do raio da aleta."
   ]
  },
  {
   "cell_type": "code",
   "execution_count": 22,
   "id": "6c55c411",
   "metadata": {},
   "outputs": [
    {
     "data": {
      "application/vnd.jupyter.widget-view+json": {
       "model_id": "3132117e5cd34d9f893b7339c6e598f0",
       "version_major": 2,
       "version_minor": 0
      },
      "text/plain": [
       "interactive(children=(FloatSlider(value=398.0, description='k (W/mK)', layout=Layout(width='50%'), max=398.0, …"
      ]
     },
     "metadata": {},
     "output_type": "display_data"
    }
   ],
   "source": [
    "pinRadiusSlider = widgets.FloatSlider(\n",
    "    value=exFinRadius,\n",
    "    min=exFinRadius,\n",
    "    max=5.0*exFinRadius,\n",
    "    step=exFinRadius/100,\n",
    "    readout_format='.2e',\n",
    "    layout=layout,\n",
    "    style=style,\n",
    "    description=\"R (m)\"\n",
    ")\n",
    "\n",
    "@widgets.interact(\n",
    "    k=thermalCondSlider,\n",
    "    h=htcSlider,\n",
    "    R=pinRadiusSlider\n",
    ")\n",
    "def InteractiveTempFin(\n",
    "        k,\n",
    "        h,\n",
    "        R\n",
    "    ):\n",
    "    \n",
    "    fig, axes = plt.subplots(\n",
    "                    figsize=(8,6)\n",
    "                )\n",
    "    \n",
    "    pinFin = PiniformFin(\n",
    "                 length=finLength,\n",
    "                 diameter=2*R,\n",
    "                 htc=h,\n",
    "                 k=k,\n",
    "                 Tinf=exTinf,\n",
    "                 Tbase=exTbase\n",
    "             )\n",
    "\n",
    "    pinTemp = pinFin.temperatureDistribution()\n",
    "    \n",
    "    xRange = np.linspace(\n",
    "                    0.0,\n",
    "                    pinFin.getLength(),\n",
    "                    len(pinTemp)\n",
    "            )\n",
    "\n",
    "    sb.lineplot(\n",
    "        x=xRange,\n",
    "        y=pinTemp,\n",
    "        ax=axes\n",
    "    )\n",
    "\n",
    "    axes.text(\n",
    "        0.32, 100,\n",
    "        f\"Heat transfer = {pinFin.heatTransfer():.2f} W\\n\"\\\n",
    "        f\"Efetividade = {pinFin.effectiveness():.2f}\\n\"\\\n",
    "        f\"Eficiência = {pinFin.efficiency():.2f}\",\n",
    "        ha = \"left\",\n",
    "        va = \"top\"\n",
    "    )\n",
    "\n",
    "    axes.set(\n",
    "        ylabel=\"T (ºC)\",\n",
    "        xlabel=\"x (m)\",\n",
    "        title=\"Comparação de T(x) para diferentes materiais \\n Aleta piniforme\",\n",
    "        ylim=(20,105)\n",
    "    )"
   ]
  },
  {
   "cell_type": "markdown",
   "id": "ca37ccbb",
   "metadata": {},
   "source": [
    "## Desempenhos de Aletas"
   ]
  },
  {
   "cell_type": "markdown",
   "id": "c4cf3eca",
   "metadata": {},
   "source": [
    "Note que para um comprimento de aproximadamente $L \\approx 60mm$ da aleta de aço a aleta não troca mais calor e o resot de material é inútil em vista de sua aplicação. Este valor pode ser obtido ao se comparar a taxa de trans. de calor total da aleta com o modelo de comprimento infinito e o modelo de fronteira adiabática, pois em uma aleta com um comprimento muito longo não há mais troca de calor na sua extremidade. Assim, com esta comparação, podemos avaliar a partir de qual comprimento o modelo de aleta infinita é válido. Comparando as equações (3.81) e (3.85), podemos escrever:\n",
    "\n",
    "\\begin{equation}\n",
    "    \\tanh{mL} \\ge 0.99\n",
    "\\end{equation}\n",
    "\n",
    "O que leva a (podemos resolver esta equação usando a definição da tangente hiperbólica):\n",
    "\n",
    "\\begin{equation}\n",
    "    mL \\ge 2.65\n",
    "    \\rightarrow\n",
    "    L \\ge \\frac{2.65}{m}\n",
    "\\end{equation}\n",
    "\n",
    "sendo $m = \\sqrt{\\frac{hP}{kA_{tr}}}$. Assim, na prática, o comprimento das aletas deve ser menor que aproximadamente $\\frac{2.65}{m}$ pois a partir desse comprimento ela não troca calor mais. No caso do problema do livro:"
   ]
  },
  {
   "cell_type": "code",
   "execution_count": 23,
   "id": "7a4a3abd",
   "metadata": {},
   "outputs": [
    {
     "name": "stdout",
     "output_type": "stream",
     "text": [
      "Cobre -> L >= 0.187 m\n",
      "Al -> L >= 0.126 m\n",
      "Aço -> L >= 0.035 m\n"
     ]
    }
   ],
   "source": [
    "for k, mat in zip([kCu, kAl, kSteel],\n",
    "                  [\"Cobre\", \"Al\", \"Aço\"]):\n",
    "    fin = PiniformFin(\n",
    "                length=finLength,\n",
    "                diameter=2*exFinRadius,\n",
    "                htc=exHtc,\n",
    "                k=k,\n",
    "                Tinf=exTinf,\n",
    "                Tbase=exTbase\n",
    "            )\n",
    "    \n",
    "    print(\n",
    "        f\"{mat} -> L >= {2.65/fin.mCoeffFin():.3f} m\"\n",
    "    )"
   ]
  },
  {
   "cell_type": "markdown",
   "id": "16109c6b",
   "metadata": {},
   "source": [
    "Além disso, note que a efetividade e eficiência da aleta aumetam conforma k aumenta e h diminui. Se aumentarmos o raio da aleta piniforme, aumentamos ainda mais a eficiência mas a efetividade começa a diminuir! Estes efeitos são esperados.\n",
    "\n",
    "Como vimos em aula, a partir da definição da efetividade e assumindo um modelo de aleta infinita, então podemos mostrar que a efetividade de aletas de seção uniforme é dada por:\n",
    "\n",
    "\\begin{equation}\n",
    "    \\epsilon_a\n",
    "    =\n",
    "    \\left(\n",
    "        \\frac{\n",
    "            kP\n",
    "        }{\n",
    "            hA_{tr}\n",
    "        }\n",
    "    \\right)^{\\frac{1}{2}}\n",
    "\\end{equation}\n",
    "\n",
    "Assim, a efetividade:\n",
    "\n",
    "1. aumenta com um valor maior de k;\n",
    "2. diminui com um valor maior de h;\n",
    "3. Aumenta com uma maior valor da razão $\\dfrac{P}{A_{tr}}$\n",
    "\n",
    "No caso de aleta piniforme:\n",
    "\n",
    "\\begin{equation}\n",
    "    \\frac{P}{A_{tr}}\n",
    "    =\n",
    "    \\frac{\n",
    "        2\\pi R\n",
    "    }{\n",
    "        \\pi R^2\n",
    "    }\n",
    "    =\n",
    "    \\frac{2}{R}\n",
    "\\end{equation}\n",
    "\n",
    "Logo, quanto menor o raio da aleta piniforme, realmente maior vai ser sua efetividade. \n",
    "\n",
    "No caso de aletas planas retangulares, temos o seguinte:\n",
    "\n",
    "\\begin{equation}\n",
    "    \\frac{P}{A_{tr}}\n",
    "    =\n",
    "    \\frac{\n",
    "        2(w + t)\n",
    "    }{\n",
    "        wt\n",
    "    }\n",
    "    =\n",
    "    \\frac{\n",
    "        2\\left(1 + \\dfrac{t}{w}\\right)\n",
    "    }{\n",
    "        t\n",
    "    }\n",
    "\\end{equation}\n",
    "\n",
    "Assim, se $w \\gg t$, quanto menor for a espessura da aleta melhor, pois sua efetividade aumentará."
   ]
  },
  {
   "cell_type": "code",
   "execution_count": 24,
   "id": "60989a8d",
   "metadata": {},
   "outputs": [],
   "source": [
    "# Adding a similar planar fin\n",
    "exFinWidth = 0.20\n",
    "exFinThickness = 0.01\n",
    "\n",
    "planarFin = PlanarFin(\n",
    "                length=finLength,\n",
    "                width=exFinWidth,\n",
    "                thickness=exFinThickness,\n",
    "                htc=exHtc,\n",
    "                k=kCu,\n",
    "                Tinf=exTinf,\n",
    "                Tbase=exTbase\n",
    "           )"
   ]
  },
  {
   "cell_type": "code",
   "execution_count": 25,
   "id": "282265da",
   "metadata": {},
   "outputs": [
    {
     "data": {
      "application/vnd.jupyter.widget-view+json": {
       "model_id": "730fb905d01449398cf7313550919a4b",
       "version_major": 2,
       "version_minor": 0
      },
      "text/plain": [
       "interactive(children=(FloatSlider(value=0.0025, description='R', layout=Layout(width='50%'), max=0.0125, min=0…"
      ]
     },
     "metadata": {},
     "output_type": "display_data"
    }
   ],
   "source": [
    "localRadiusSlider = widgets.FloatSlider(\n",
    "    value=exFinRadius,\n",
    "    min=exFinRadius,\n",
    "    max=5.0*exFinRadius,\n",
    "    step=exFinRadius/100,\n",
    "    readout_format='.2e',\n",
    "    layout=layout,\n",
    "    style=style\n",
    ")\n",
    "\n",
    "@widgets.interact(R=localRadiusSlider)\n",
    "def InteractiveCompareFinSizes(\n",
    "        R\n",
    "    ):\n",
    "\n",
    "    fig, ax = plt.subplots()\n",
    "    \n",
    "    planarTemp = planarFin.temperatureDistribution()\n",
    "    \n",
    "    pinFin = PiniformFin(\n",
    "                length=0.3,\n",
    "                diameter=2*R,\n",
    "                htc=exHtc,\n",
    "                k=kCu,\n",
    "                Tinf=exTinf,\n",
    "                Tbase=exTbase\n",
    "           )\n",
    "\n",
    "    pinTemp = pinFin.temperatureDistribution()\n",
    "\n",
    "    xRange = np.linspace(\n",
    "                    0.0,\n",
    "                    pinFin.getLength(),\n",
    "                    len(pinTemp)\n",
    "            )\n",
    "\n",
    "    sb.lineplot(\n",
    "        x=xRange,\n",
    "        y=pinTemp,\n",
    "        ax=ax,\n",
    "        label=\"Piniform\"\n",
    "    )\n",
    "\n",
    "    sb.lineplot(\n",
    "        x=xRange,\n",
    "        y=planarTemp,\n",
    "        ax=ax,\n",
    "        label=\"Planar\"\n",
    "    )\n",
    "    \n",
    "    ax.set(\n",
    "        ylabel=\"Temperature (ºC)\",\n",
    "        xlabel=\"x (m)\",\n",
    "        title=\"What radius a piniform fin must have \\n to compare with a planar one?\",\n",
    "        ylim=(exTinf, exTbase)\n",
    "    )"
   ]
  },
  {
   "cell_type": "code",
   "execution_count": 26,
   "id": "8c18f2c5",
   "metadata": {},
   "outputs": [
    {
     "data": {
      "application/vnd.jupyter.widget-view+json": {
       "model_id": "a6023530b5634803b3e1605fbfacc86b",
       "version_major": 2,
       "version_minor": 0
      },
      "text/plain": [
       "interactive(children=(FloatSlider(value=398.0, description='k (W/mK)', layout=Layout(width='50%'), max=398.0, …"
      ]
     },
     "metadata": {},
     "output_type": "display_data"
    }
   ],
   "source": [
    "@widgets.interact(\n",
    "    k=thermalCondSlider,\n",
    "    h=htcSlider\n",
    ")\n",
    "def InteractiveTempFin(\n",
    "        k,\n",
    "        h\n",
    "):\n",
    "    \n",
    "    fig, axes = plt.subplots(\n",
    "                    figsize=(10,8)\n",
    "                )\n",
    "\n",
    "    lengths = np.linspace(0,0.50,50)\n",
    "\n",
    "    planarEfficiencies = [PlanarFin(\n",
    "                                 length=L,\n",
    "                                 width=0.2,\n",
    "                                 thickness=0.01,\n",
    "                                 htc=h,\n",
    "                                 k=k,\n",
    "                                 Tinf=exTinf,\n",
    "                                 Tbase=exTbase\n",
    "                             ).efficiency() \n",
    "                            for L in lengths]\n",
    "\n",
    "\n",
    "    pinEfficiencies = [PiniformFin(\n",
    "                             length=L,\n",
    "                             diameter=2.0*exFinRadius,\n",
    "                             htc=h,\n",
    "                             k=k,\n",
    "                             Tinf=exTinf,\n",
    "                             Tbase=exTbase\n",
    "                         ).efficiency() \n",
    "                        for L in lengths]\n",
    "\n",
    "    sb.lineplot(\n",
    "        x=lengths,\n",
    "        y=planarEfficiencies,\n",
    "        label=\"Planar\",\n",
    "        ax=axes\n",
    "    )\n",
    "\n",
    "    sb.lineplot(\n",
    "        x=lengths,\n",
    "        y=pinEfficiencies,\n",
    "        label=\"Piniform\",\n",
    "        ax=axes\n",
    "    )\n",
    "\n",
    "    axes.set(\n",
    "        title=\"Effect of h and k on fin efficiency\",\n",
    "        ylabel=\"Efficiency\",\n",
    "        xlabel=\"L (m)\",\n",
    "        ylim=(0.0,1.05)\n",
    "    )"
   ]
  },
  {
   "cell_type": "code",
   "execution_count": null,
   "id": "59c9fb7b-7784-4cb9-8972-37a7f2294c5b",
   "metadata": {},
   "outputs": [],
   "source": []
  }
 ],
 "metadata": {
  "kernelspec": {
   "display_name": "Python [conda env:feb-lectures]",
   "language": "python",
   "name": "conda-env-feb-lectures-py"
  },
  "language_info": {
   "codemirror_mode": {
    "name": "ipython",
    "version": 3
   },
   "file_extension": ".py",
   "mimetype": "text/x-python",
   "name": "python",
   "nbconvert_exporter": "python",
   "pygments_lexer": "ipython3",
   "version": "3.10.12"
  }
 },
 "nbformat": 4,
 "nbformat_minor": 5
}
