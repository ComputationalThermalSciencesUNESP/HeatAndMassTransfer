{
 "cells": [
  {
   "cell_type": "markdown",
   "id": "b4a958e5-f5d9-4fd8-ad2e-5585fac0633d",
   "metadata": {},
   "source": [
    "# Análise de Aletas: Exemplos e Avaliação Computacional de seu Desempenho\n",
    "\n",
    "Este notebook ilustra o uso do pacote ´hmt´ disponível em conjunto com o notebook, e implementado para uso didático, no cálculo de propriedades de aletas no estudo da intensificação de tranferência de calor via superfície estendidas. As aletas disponíveis para os exemplos são aquelas disponíveis no livro-texto \"Fundamentos de Transferência de Calor e Massa\", Incropera et al. 8ª ed. São elas:\n",
    "\n",
    "1. Aletas Planas e Piniformes:\n",
    "   * Retangulares;\n",
    "   * Triangulares*;\n",
    "   * Parabólicas*.\n",
    "  \n",
    "2. Aletas Circulares\n",
    "\n",
    "Aquelas marcadas com um asterisco \"*\" indicam que apenas as propriedades geométricas, efetividade e eficiência destas aletas estão atualmente implementadas, pois são as funções disponíveis no livro-texto (transf. de calor é calculada a parti da eficiência da mesma). As outras possuem uma implementação completa com distribuição de temperatura, cálculo explícito de taxa de transf. de calor, efetividade e eficiência. "
   ]
  },
  {
   "cell_type": "markdown",
   "id": "4f6e5a44-fb0f-488a-b7f5-8f351baff847",
   "metadata": {},
   "source": [
    "### Modo de usar este notebook\n",
    "Cada célula aqui representa um pedaço de código que deve ser executado clicando no botão de \"play\" na barra superior ou com \"Shift + Enter\" do teclado. Execute as células em sequência e leia as informações contidas."
   ]
  },
  {
   "cell_type": "code",
   "execution_count": 2,
   "id": "90172cfe-faf6-4bb4-bb85-132a67823411",
   "metadata": {},
   "outputs": [],
   "source": [
    "import numpy as np\n",
    "import pandas as pd\n",
    "import matplotlib.pyplot as plt\n",
    "import seaborn as sb\n",
    "\n",
    "import ipywidgets as widgets\n",
    "from IPython.display import display"
   ]
  },
  {
   "cell_type": "code",
   "execution_count": 3,
   "id": "c82b5e8a-0041-48cb-8e1b-ba83b02e392b",
   "metadata": {},
   "outputs": [],
   "source": [
    "from hmt.lib.fins import (\n",
    "    FinUniformAtr,\n",
    "    FinPiniformRectangular,\n",
    "    FinPiniformTriangular,\n",
    "    FinPiniformParabolic,\n",
    "    FinPlanarRectangular,\n",
    "    FinPlanarTriangular,\n",
    "    FinPlanarParabolic,\n",
    "    FinAnnular\n",
    ")"
   ]
  },
  {
   "cell_type": "code",
   "execution_count": 4,
   "id": "8cca0c00",
   "metadata": {},
   "outputs": [],
   "source": [
    "# sb.set_context(\n",
    "#     \"talk\",\n",
    "#     font_scale=1.2\n",
    "# )\n",
    "sb.set_style(\n",
    "    \"darkgrid\"\n",
    ")\n",
    "\n",
    "layout = widgets.Layout(\n",
    "            width=\"50%\"\n",
    "         )\n",
    "\n",
    "style = {\"description_width\": \"initial\"}"
   ]
  },
  {
   "cell_type": "code",
   "execution_count": 5,
   "id": "2b98c6df",
   "metadata": {},
   "outputs": [],
   "source": [
    "# Physical constants for parametric analysis\n",
    "kCu = 398.0 # W/mK\n",
    "kAl = 180.0 # W/mK\n",
    "kSteel = 14.0 # W/mK\n",
    "\n",
    "hNaturalConv = 5.0 # W/m2K\n",
    "hForcedConv  = 1000.0 # W/m2K\n",
    "hIntermediate = 100.0 "
   ]
  },
  {
   "cell_type": "code",
   "execution_count": 6,
   "id": "048390c9",
   "metadata": {},
   "outputs": [],
   "source": [
    "# Sliders for interactive plots \n",
    "thermalCondSlider = widgets.FloatSlider(\n",
    "    value=kCu,\n",
    "    min=kSteel,\n",
    "    max=kCu,\n",
    "    step=(kCu - kSteel)/100,\n",
    "    description=\"k (W/mK)\",\n",
    "    readout_format='.1f',\n",
    "    layout=layout,\n",
    "    style=style\n",
    ")\n",
    "\n",
    "htcSlider = widgets.FloatSlider(\n",
    "    value=hIntermediate,\n",
    "    min=hNaturalConv,\n",
    "    max=hForcedConv,\n",
    "    step=(hForcedConv - hNaturalConv)/500,\n",
    "    description=\"h (W/m2K)\",\n",
    "    readout_format='.1f',\n",
    "    layout=layout,\n",
    "    style=style\n",
    ")"
   ]
  },
  {
   "cell_type": "markdown",
   "id": "c80fbd66",
   "metadata": {},
   "source": [
    "## Análise do Exemplo 3.9 Item 1 do Livro-texto\n",
    "\n",
    "Um bastão muito longo, com 5 mm de diâmetro, tem uma de suas extremidades mantida a 100 °C. A superfície do bastão está exposta ao ar ambiente a 25 °C, com um coeficiente de transferência de calor por convecção de 100 $W/(m^2·K)$.\n",
    "\n",
    "1. Determine as distribuições de temperaturas ao longo de bastões construídos em cobre puro, liga de alumínio 2024 e aço inoxidável AISI 316. Quais são as respectivas taxas de perda de calor nos bastões?"
   ]
  },
  {
   "cell_type": "code",
   "execution_count": 7,
   "id": "c73f896f",
   "metadata": {},
   "outputs": [],
   "source": [
    "# Dados do problema\n",
    "exHtc   = 100.0 # W/m2K\n",
    "exTbase = 100.0 # Celsius\n",
    "exTinf  = 25.0 # Celsius\n",
    "\n",
    "# Dimensions\n",
    "exFinRadius = 2.5e-3 # meters"
   ]
  },
  {
   "cell_type": "markdown",
   "id": "d6951f3b",
   "metadata": {},
   "source": [
    "Vamos supor um comprimento $L = 300 mm$ para esta aleta para avaliarmos o campo de temperatura na mesma."
   ]
  },
  {
   "cell_type": "code",
   "execution_count": 8,
   "id": "23d958be-c324-4573-81d8-22d62007a7d3",
   "metadata": {},
   "outputs": [],
   "source": [
    "finLength = 300.0e-3 # meters"
   ]
  },
  {
   "cell_type": "markdown",
   "id": "8313aa37",
   "metadata": {},
   "source": [
    "A implementação feita aqui usa classes em Python para encapsular todas as operações necessárias para estudarmos aletas. Podemos instanciar um objeto da classe \"PiniformFin\" (aleta piniforme com área de seção uniforme) e informar as grandezas da mesma.\n",
    "\n",
    "Apenas como exemplo do tipo de interação possível, vamos instanciar um objeto de aleta com a condutividade do cobre. Todas as grandezas devem ser dadas em unidades do SI, com exceção da temperatura que pode ser informada em graus Celsius."
   ]
  },
  {
   "cell_type": "code",
   "execution_count": 9,
   "id": "f0e07458",
   "metadata": {},
   "outputs": [],
   "source": [
    "pinFin = FinPiniformRectangular(\n",
    "            length=finLength,\n",
    "            diameter=2*exFinRadius,\n",
    "            htc=exHtc,\n",
    "            k=kCu,\n",
    "            Tinf=exTinf,\n",
    "            Tbase=exTbase\n",
    "       )"
   ]
  },
  {
   "cell_type": "markdown",
   "id": "a7595564-4c68-4c9c-933b-6735865108e3",
   "metadata": {},
   "source": [
    "Agora podemos acessar as grandezas da mesma usados suas chamadas \"funções membro\", como segue: "
   ]
  },
  {
   "cell_type": "code",
   "execution_count": 10,
   "id": "e55f841a",
   "metadata": {},
   "outputs": [
    {
     "data": {
      "text/plain": [
       "0.004732023934469626"
      ]
     },
     "execution_count": 10,
     "metadata": {},
     "output_type": "execute_result"
    }
   ],
   "source": [
    "# Area da superfície\n",
    "pinFin.getSurfaceArea() "
   ]
  },
  {
   "cell_type": "code",
   "execution_count": 11,
   "id": "6df16e95",
   "metadata": {},
   "outputs": [
    {
     "data": {
      "text/plain": [
       "0.015707963267948967"
      ]
     },
     "execution_count": 11,
     "metadata": {},
     "output_type": "execute_result"
    }
   ],
   "source": [
    "# Perímetro\n",
    "pinFin.getPerimeter() "
   ]
  },
  {
   "cell_type": "code",
   "execution_count": 12,
   "id": "5ae637b3",
   "metadata": {},
   "outputs": [
    {
     "data": {
      "text/plain": [
       "1.9634954084936207e-05"
      ]
     },
     "execution_count": 12,
     "metadata": {},
     "output_type": "execute_result"
    }
   ],
   "source": [
    "# Area da seção transversal\n",
    "pinFin.getTrArea()"
   ]
  },
  {
   "cell_type": "code",
   "execution_count": 13,
   "id": "94ec051c",
   "metadata": {},
   "outputs": [
    {
     "data": {
      "text/plain": [
       "8.30631171973361"
      ]
     },
     "execution_count": 13,
     "metadata": {},
     "output_type": "execute_result"
    }
   ],
   "source": [
    "# Taxa total de transf. de calor (W)\n",
    "pinFin.getHeatTransfer()"
   ]
  },
  {
   "cell_type": "code",
   "execution_count": 14,
   "id": "b8015633-ff26-4302-a39c-5a784b2340e3",
   "metadata": {},
   "outputs": [
    {
     "data": {
      "text/plain": [
       "35.490179508522196"
      ]
     },
     "execution_count": 14,
     "metadata": {},
     "output_type": "execute_result"
    }
   ],
   "source": [
    "pinFin.getMaxHeatTransfer()"
   ]
  },
  {
   "cell_type": "code",
   "execution_count": 15,
   "id": "cae979a5",
   "metadata": {},
   "outputs": [
    {
     "data": {
      "text/plain": [
       "56.404930946463836"
      ]
     },
     "execution_count": 15,
     "metadata": {},
     "output_type": "execute_result"
    }
   ],
   "source": [
    "# Effetividade\n",
    "pinFin.getEffectiveness()"
   ]
  },
  {
   "cell_type": "code",
   "execution_count": 16,
   "id": "a29cd0eb",
   "metadata": {},
   "outputs": [
    {
     "data": {
      "text/plain": [
       "0.23404535662433124"
      ]
     },
     "execution_count": 16,
     "metadata": {},
     "output_type": "execute_result"
    }
   ],
   "source": [
    "# Efficiency\n",
    "pinFin.getEfficiency()"
   ]
  },
  {
   "cell_type": "markdown",
   "id": "3d846011",
   "metadata": {},
   "source": [
    "Vamos agora à comparação da distribuição de temperaturas para os 3 casos de materias considerados da aleta piniforme. Bastar executar o código a seguir. A efetividade de cada caso é mostrada na legenda da figura."
   ]
  },
  {
   "cell_type": "code",
   "execution_count": 17,
   "id": "fe9ba4fb-2968-4c82-80f2-ab12946c208f",
   "metadata": {},
   "outputs": [],
   "source": [
    "nPoints = 100\n",
    "xRange = np.linspace(\n",
    "            0.0,\n",
    "            finLength,\n",
    "            nPoints\n",
    "         )"
   ]
  },
  {
   "cell_type": "code",
   "execution_count": 18,
   "id": "bfcea3d5",
   "metadata": {},
   "outputs": [
    {
     "data": {
      "image/png": "[encoded data removed]",
      "text/plain": [
       "<Figure size 640x480 with 1 Axes>"
      ]
     },
     "metadata": {},
     "output_type": "display_data"
    }
   ],
   "source": [
    "fig, axes = plt.subplots(\n",
    "                # figsize=(8,8)\n",
    "            )\n",
    "\n",
    "for k, label in zip([kCu, kAl, kSteel],\n",
    "                    [\"Cobre\", \"Alumínio\", \"Aço\"]):\n",
    "    \n",
    "    # Instantiate piniform fin model\n",
    "    pinFin = FinPiniformRectangular(\n",
    "                 length=finLength,\n",
    "                 diameter=2*exFinRadius,\n",
    "                 htc=exHtc,\n",
    "                 k=k,\n",
    "                 Tinf=exTinf,\n",
    "                 Tbase=exTbase\n",
    "             )\n",
    "\n",
    "    # Get temperature distribution\n",
    "    xRange = np.linspace(\n",
    "                    0.0,\n",
    "                    pinFin.getLength(),\n",
    "                    nPoints\n",
    "                )\n",
    "\n",
    "    pinTemps = [pinFin.getTemperature(x)\n",
    "                for x in xRange]\n",
    "    \n",
    "    sb.lineplot(\n",
    "        x=xRange,\n",
    "        y=pinTemps,\n",
    "        label=f\"{label} {pinFin.getEffectiveness():.2f}\",\n",
    "        ax=axes\n",
    "    )\n",
    "\n",
    "    axes.set(\n",
    "        ylabel=\"T (ºC)\",\n",
    "        xlabel=\"x (m)\",\n",
    "        title=\"Comparação de T(x) para diferentes materiais \\n Aleta piniforme (efetividade anotada na legenda)\",\n",
    "        ylim=(20,105)\n",
    "    )"
   ]
  },
  {
   "cell_type": "markdown",
   "id": "1a8a2ab2",
   "metadata": {},
   "source": [
    "Claramente a efetividade da aleta de aço é menor, o que é esperado. A efetividade da aleta é melhorada quando selecionamos um material com maior condutividade térmica.\n",
    "\n",
    "Uma versão interativa deste gráfico pode ser encontrado com o código a seguir. Use os \"sliders\" para controlar o valor:\n",
    "\n",
    "1. da condutividade térmica;\n",
    "2. do coef. de transferência de calor por conveccção;\n",
    "3. e do raio da aleta."
   ]
  },
  {
   "cell_type": "code",
   "execution_count": 19,
   "id": "2a30c518-8d19-4239-934c-b1f7d90bd491",
   "metadata": {},
   "outputs": [],
   "source": [
    "pinRadiusSlider = widgets.FloatSlider(\n",
    "    value=exFinRadius,\n",
    "    min=exFinRadius,\n",
    "    max=5.0*exFinRadius,\n",
    "    step=exFinRadius/100,\n",
    "    readout_format='.2e',\n",
    "    layout=layout,\n",
    "    style=style,\n",
    "    description=\"R (m)\"\n",
    ")"
   ]
  },
  {
   "cell_type": "code",
   "execution_count": 20,
   "id": "6c55c411",
   "metadata": {},
   "outputs": [
    {
     "data": {
      "application/vnd.jupyter.widget-view+json": {
       "model_id": "8f6f2e04bae74ffca58c209919140bd3",
       "version_major": 2,
       "version_minor": 0
      },
      "text/plain": [
       "interactive(children=(FloatSlider(value=398.0, description='k (W/mK)', layout=Layout(width='50%'), max=398.0, …"
      ]
     },
     "metadata": {},
     "output_type": "display_data"
    }
   ],
   "source": [
    "@widgets.interact(\n",
    "    k=thermalCondSlider,\n",
    "    h=htcSlider,\n",
    "    R=pinRadiusSlider\n",
    ")\n",
    "def InteractiveTempFin(k,h,R):\n",
    "    \n",
    "    fig, axes = plt.subplots(\n",
    "                    # figsize=(8,6)\n",
    "                )\n",
    "    \n",
    "    pinFinInt = FinPiniformRectangular(\n",
    "                 length=finLength,\n",
    "                 diameter=2*R,\n",
    "                 htc=h,\n",
    "                 k=k,\n",
    "                 Tinf=exTinf,\n",
    "                 Tbase=exTbase\n",
    "             )\n",
    "    \n",
    "    sb.lineplot(\n",
    "        x=xRange,\n",
    "        y=[pinFinInt.getTemperature(x)\n",
    "                for x in xRange],\n",
    "        ax=axes\n",
    "    )\n",
    "\n",
    "    axes.text(\n",
    "        0.32, 100,\n",
    "        f\"Heat transfer = {pinFinInt.getHeatTransfer():.2f} W\\n\"\\\n",
    "        f\"Efetividade = {pinFinInt.getEffectiveness():.2f}\\n\"\\\n",
    "        f\"Eficiência = {pinFinInt.getEfficiency():.2f}\",\n",
    "        ha = \"left\",\n",
    "        va = \"top\"\n",
    "    )\n",
    "\n",
    "    axes.set(\n",
    "        ylabel=\"T (ºC)\",\n",
    "        xlabel=\"x (m)\",\n",
    "        title=\"Comparação de T(x) para diferentes materiais \\n Aleta piniforme\",\n",
    "        ylim=(20,105)\n",
    "    )"
   ]
  },
  {
   "cell_type": "markdown",
   "id": "ca37ccbb",
   "metadata": {},
   "source": [
    "## Desempenhos de Aletas"
   ]
  },
  {
   "attachments": {},
   "cell_type": "markdown",
   "id": "c0e6b52d-8a64-48c7-98ae-5509f116fa34",
   "metadata": {},
   "source": [
    "### Análise da Efetividade\n",
    "\n",
    "Note no gráfico interativo anterior o efeito de cada parâmetro de transferência de calor na distribuição de temperaturas da aleta. Quanto maior o compirmento da aleta que está a $T_\\infty$, menor a sua efetividade pois ela não troca mais calor com o ambiente. Note que a efetividade e eficiência da aleta aumetam conforma k aumenta e h diminui. Se aumentarmos o raio da aleta piniforme, aumentamos ainda mais a eficiência mas a efetividade começa a diminuir! Estes efeitos são esperados.\n",
    "\n",
    "Como vimos em aula, a partir da definição da efetividade e assumindo um modelo de aleta infinita, então podemos mostrar que a efetividade de aletas de seção uniforme é dada por:\n",
    "\n",
    "\\begin{equation}\n",
    "    \\epsilon_a\n",
    "    =\n",
    "    \\left(\n",
    "        \\frac{\n",
    "            kP\n",
    "        }{\n",
    "            hA_{tr}\n",
    "        }\n",
    "    \\right)^{\\frac{1}{2}}\n",
    "\\end{equation}\n",
    "\n",
    "Assim, a efetividade:\n",
    "\n",
    "1. aumenta com um valor maior de k;\n",
    "2. diminui com um valor maior de h;\n",
    "3. Aumenta com uma maior valor da razão $\\dfrac{P}{A_{tr}}$\n",
    "\n",
    "No caso de aleta piniforme:\n",
    "\n",
    "\\begin{equation}\n",
    "    \\frac{P}{A_{tr}}\n",
    "    =\n",
    "    \\frac{\n",
    "        2\\pi R\n",
    "    }{\n",
    "        \\pi R^2\n",
    "    }\n",
    "    =\n",
    "    \\frac{2}{R}\n",
    "\\end{equation}\n",
    "\n",
    "Logo, quanto menor o raio da aleta piniforme, realmente maior vai ser sua efetividade. \n",
    "\n",
    "No caso de aletas planas retangulares, temos o seguinte:\n",
    "\n",
    "\\begin{equation}\n",
    "    \\frac{P}{A_{tr}}\n",
    "    =\n",
    "    \\frac{\n",
    "        2(w + t)\n",
    "    }{\n",
    "        wt\n",
    "    }\n",
    "    =\n",
    "    \\frac{\n",
    "        2\\left(1 + \\dfrac{t}{w}\\right)\n",
    "    }{\n",
    "        t\n",
    "    }\n",
    "\\end{equation}\n",
    "\n",
    "Assim, se $w \\gg t$, quanto menor for a espessura da aleta melhor, pois sua efetividade aumentará."
   ]
  },
  {
   "cell_type": "markdown",
   "id": "c4cf3eca",
   "metadata": {},
   "source": [
    "### Comprimento \"Útil\" de Aletas\n",
    "\n",
    "Note que para um comprimento de aproximadamente $L \\approx 60mm$ da aleta de aço a aleta não troca mais calor e o resot de material é inútil em vista de sua aplicação. Este valor pode ser obtido ao se comparar a taxa de trans. de calor total da aleta com o modelo de comprimento infinito e o modelo de fronteira adiabática, pois em uma aleta com um comprimento muito longo não há mais troca de calor na sua extremidade. Assim, com esta comparação, podemos avaliar a partir de qual comprimento o modelo de aleta infinita é válido. Comparando as equações (3.81) e (3.85), podemos escrever:\n",
    "\n",
    "\\begin{equation}\n",
    "    \\tanh{mL} \\ge 0.99\n",
    "\\end{equation}\n",
    "\n",
    "O que leva a (podemos resolver esta equação usando a definição da tangente hiperbólica):\n",
    "\n",
    "\\begin{equation}\n",
    "    mL \\ge 2.65\n",
    "    \\rightarrow\n",
    "    L \\ge \\frac{2.65}{m}\n",
    "\\end{equation}\n",
    "\n",
    "sendo $m = \\sqrt{\\frac{hP}{kA_{tr}}}$. Assim, na prática, o comprimento das aletas deve ser menor que aproximadamente $\\frac{2.65}{m}$ pois a partir desse comprimento ela não troca calor mais. No caso do problema do livro:"
   ]
  },
  {
   "cell_type": "code",
   "execution_count": 21,
   "id": "7a4a3abd",
   "metadata": {},
   "outputs": [
    {
     "name": "stdout",
     "output_type": "stream",
     "text": [
      "Cobre -> L >= 0.187 m\n",
      "Al -> L >= 0.126 m\n",
      "Aço -> L >= 0.035 m\n"
     ]
    }
   ],
   "source": [
    "for k, mat in zip([kCu, kAl, kSteel],\n",
    "                  [\"Cobre\", \"Al\", \"Aço\"]):\n",
    "    \n",
    "    fin = FinPiniformRectangular(\n",
    "                length=finLength,\n",
    "                diameter=2*exFinRadius,\n",
    "                htc=exHtc,\n",
    "                k=k,\n",
    "                Tinf=exTinf,\n",
    "                Tbase=exTbase\n",
    "            )\n",
    "    \n",
    "    print(\n",
    "        f\"{mat} -> L >= {2.65/fin._mCoeffFin():.3f} m\"\n",
    "    )"
   ]
  },
  {
   "cell_type": "markdown",
   "id": "b5332558-47e0-4cbf-b971-7b936c19e717",
   "metadata": {},
   "source": [
    "Com relação à distribuição de temperaturas, a aleta se torna mais efetiva conforme **a distribuição de temperaturas se aproxima de $T_\\infty$**. Neste caso, precisamos introduzir o conceito de *eficiência das aletas*."
   ]
  },
  {
   "cell_type": "code",
   "execution_count": 22,
   "id": "5985c475-d692-4a1a-bad8-b9ccd2b4ec02",
   "metadata": {},
   "outputs": [],
   "source": [
    "# Adding a similar planar fin\n",
    "exFinWidth = 0.20\n",
    "exFinThickness = 0.01"
   ]
  },
  {
   "cell_type": "code",
   "execution_count": 23,
   "id": "1932e399-a875-48db-9a32-bc97e9c38110",
   "metadata": {},
   "outputs": [],
   "source": [
    "planarFin = FinPlanarRectangular(\n",
    "                length=finLength,\n",
    "                width=exFinWidth,\n",
    "                thickness=exFinThickness,\n",
    "                htc=exHtc,\n",
    "                k=kCu,\n",
    "                Tinf=exTinf,\n",
    "                Tbase=exTbase\n",
    "           )"
   ]
  },
  {
   "cell_type": "code",
   "execution_count": 24,
   "id": "282265da",
   "metadata": {},
   "outputs": [
    {
     "data": {
      "application/vnd.jupyter.widget-view+json": {
       "model_id": "821065c6b84647acae9f846220727743",
       "version_major": 2,
       "version_minor": 0
      },
      "text/plain": [
       "interactive(children=(FloatSlider(value=0.0025, description='R', layout=Layout(width='50%'), max=0.0125, min=0…"
      ]
     },
     "metadata": {},
     "output_type": "display_data"
    }
   ],
   "source": [
    "localRadiusSlider = widgets.FloatSlider(\n",
    "    value=exFinRadius,\n",
    "    min=exFinRadius,\n",
    "    max=5.0*exFinRadius,\n",
    "    step=exFinRadius/100,\n",
    "    readout_format='.2e',\n",
    "    layout=layout,\n",
    "    style=style\n",
    ")\n",
    "\n",
    "@widgets.interact(R=localRadiusSlider)\n",
    "def InteractiveCompareFinSizes(\n",
    "        R\n",
    "    ):\n",
    "\n",
    "    fig, ax = plt.subplots()\n",
    "    \n",
    "    pinFin = FinPiniformRectangular(\n",
    "                length=finLength,\n",
    "                diameter=2*R,\n",
    "                htc=exHtc,\n",
    "                k=kCu,\n",
    "                Tinf=exTinf,\n",
    "                Tbase=exTbase\n",
    "           )\n",
    "    \n",
    "    sb.lineplot(\n",
    "        x=xRange,\n",
    "        y=[pinFin.getTemperature(x)\n",
    "           for x in xRange],\n",
    "        ax=ax,\n",
    "        label=f\"Piniform (V = {1.0e9*pinFin.getVolume():.2f} mm3)\"\n",
    "    )\n",
    "\n",
    "    sb.lineplot(\n",
    "        x=xRange,\n",
    "        y=[planarFin.getTemperature(x)\n",
    "           for x in xRange],\n",
    "        ax=ax,\n",
    "        label=f\"Planar (V = {1.0e9*planarFin.getVolume():.2f} mm3)\"\n",
    "    )\n",
    "    \n",
    "    ax.set(\n",
    "        ylabel=\"Temperature (ºC)\",\n",
    "        xlabel=\"x (m)\",\n",
    "        title=\"What radius a piniform fin must have \\n to compare with a planar one?\",\n",
    "        ylim=(exTinf, exTbase)\n",
    "    )"
   ]
  },
  {
   "cell_type": "code",
   "execution_count": 25,
   "id": "86669872-3de1-4fda-a232-112d8e678d0b",
   "metadata": {},
   "outputs": [],
   "source": [
    "# Comparison of planar fins efficiency\n",
    "planarFinSpecs = {\"width\": exFinWidth,\n",
    "                  \"thickness\": exFinThickness}\n",
    "\n",
    "piniformFinSpecs = {\"diameter\": 2*exFinRadius}\n",
    "                  \n",
    "tempDict = {\"Tinf\": exTinf,\n",
    "            \"Tbase\": exTbase}\n",
    "\n",
    "planarFinSpecs.update(tempDict)\n",
    "piniformFinSpecs.update(tempDict)"
   ]
  },
  {
   "cell_type": "code",
   "execution_count": 26,
   "id": "e798f5ef-b5e6-4bff-9c3c-45ac0c0fd8ca",
   "metadata": {},
   "outputs": [],
   "source": [
    "def computeEfficiencyPlanarFin(arr_lengths, fin_specs):\n",
    "\n",
    "    efficiencies = {\"L\": arr_lengths}\n",
    "    for finClass, label in zip([FinPlanarRectangular,\n",
    "                                 FinPlanarTriangular,\n",
    "                                 FinPlanarParabolic],\n",
    "                                [\"Retangular\", \"Triangular\", \"Parabólica\"]):\n",
    "        \n",
    "        efficiencies.update({\n",
    "            label: [finClass(\n",
    "                        length=L,\n",
    "                        **fin_specs\n",
    "                    ).getEfficiency() \n",
    "                    for L in arr_lengths]\n",
    "        })\n",
    "\n",
    "    return pd.DataFrame.from_dict(efficiencies)"
   ]
  },
  {
   "cell_type": "code",
   "execution_count": 27,
   "id": "9b5c4f28-58a4-4181-9f78-622959179fb0",
   "metadata": {},
   "outputs": [],
   "source": [
    "def computeEfficiencyPiniformFin(arr_lengths, fin_specs):\n",
    "\n",
    "    efficiencies = {\"L\": arr_lengths}\n",
    "    for finClass, label in zip([FinPiniformRectangular,\n",
    "                                 FinPiniformTriangular,\n",
    "                                 FinPiniformParabolic],\n",
    "                                [\"Retangular\", \"Triangular\", \"Parabólica\"]):\n",
    "        \n",
    "        efficiencies.update({\n",
    "            label: [finClass(\n",
    "                        length=L,\n",
    "                        **fin_specs\n",
    "                    ).getEfficiency() \n",
    "                    for L in arr_lengths]\n",
    "        })\n",
    "\n",
    "    return pd.DataFrame.from_dict(efficiencies)"
   ]
  },
  {
   "cell_type": "code",
   "execution_count": 28,
   "id": "aa934982-ea00-4dd1-9a61-619ffe64e905",
   "metadata": {},
   "outputs": [
    {
     "data": {
      "application/vnd.jupyter.widget-view+json": {
       "model_id": "2d4e84c960ea4510826b87a882b2dcd0",
       "version_major": 2,
       "version_minor": 0
      },
      "text/plain": [
       "interactive(children=(FloatSlider(value=398.0, description='k (W/mK)', layout=Layout(width='50%'), max=398.0, …"
      ]
     },
     "metadata": {},
     "output_type": "display_data"
    }
   ],
   "source": [
    "lengths = np.linspace(0.0001,0.50,50)\n",
    "\n",
    "@widgets.interact(\n",
    "    k=thermalCondSlider,\n",
    "    h=htcSlider\n",
    ")\n",
    "def InteractiveTempFin(k,h):\n",
    "    \n",
    "    fig, axes = plt.subplots(\n",
    "                    ncols=2,\n",
    "                    figsize=(15,6)\n",
    "                )\n",
    "\n",
    "    # For interactivity\n",
    "    planarFinSpecs.update({\"htc\": h, \"k\": k})\n",
    "    piniformFinSpecs.update({\"htc\": h, \"k\": k})\n",
    "\n",
    "    computeEfficiencyPlanarFin(\n",
    "        lengths,\n",
    "        planarFinSpecs\n",
    "    ).plot(x=\"L\", ax=axes[0])\n",
    "\n",
    "    computeEfficiencyPiniformFin(\n",
    "        lengths,\n",
    "        piniformFinSpecs\n",
    "    ).plot(x=\"L\",ax=axes[1])\n",
    "    \n",
    "    axes[0].set(\n",
    "        title=\"Efeito de h e k na eficiência de aletas planas\",\n",
    "        ylabel=\"Eficiência\",\n",
    "        xlabel=\"L (m)\",\n",
    "        ylim=(0.0,1.05)\n",
    "    )\n",
    "    \n",
    "    axes[1].set(\n",
    "        title=\"Efeito de h e k na eficiência de aletas piniformes\",\n",
    "        xlabel=\"L (m)\",\n",
    "        ylim=(0.0,1.05)\n",
    "    )"
   ]
  },
  {
   "cell_type": "markdown",
   "id": "7bc1115d-0a8e-42e5-87f3-76d41d6ebfc3",
   "metadata": {},
   "source": [
    "Note que a eficiência das aletas aumenta conforme:\n",
    "\n",
    "1. h diminui, similar ao que acontece com sua efetividade;\n",
    "2. k aumenta.\n",
    "\n",
    "Com relação ao tipo de aleta plana ou piniforme, note que quando menor o comprimento, a eficiência dos três tipos de perfil são bastante similares, enquanto para maiores comprimentos aletas planas retangulares tem maiior eficiência e aletas parabólicas tem a maior eficiência. Como podemos selecionar a aleta ideal neste caso? A engenheira ou engenheiro responsável tem de fazer uma balanço entre eficiência e custo de produção das aletas, dependendo assim da aplicação, pois pode haver restrições quando à geometria, material, etc. Aletas parabólicas, por exemplo, são de mais difícil fabricação. Com relação ao custo do material, vamos fazer uma comparação entre diferentes tipos de aletas com relação ao seu volume."
   ]
  },
  {
   "cell_type": "markdown",
   "id": "530da5d0-f00d-43f9-9e72-f78e313f522d",
   "metadata": {},
   "source": [
    "Supondo um exemplo de uma aleta de alumínio puro sob condições de convecção forçada com $h = 100 W/m²K$, vamos comparar o volume de cada tipo de aleta com um determinado comprimento Vamos usar as dimensões do exmeplo anterior."
   ]
  },
  {
   "cell_type": "code",
   "execution_count": 29,
   "id": "02f6a491-daa0-4649-8157-dc813c770a7a",
   "metadata": {},
   "outputs": [],
   "source": [
    "condDict = {\"htc\": exHtc, \"k\": kAl}\n",
    "planarFinSpecs.update(condDict)\n",
    "piniformFinSpecs.update(condDict)"
   ]
  },
  {
   "cell_type": "code",
   "execution_count": 30,
   "id": "1ed4be38-c20c-4e14-8cfc-1bcba42cb90e",
   "metadata": {},
   "outputs": [
    {
     "name": "stdout",
     "output_type": "stream",
     "text": [
      "Comparação de Diss. Calor Por Volume\n",
      "Aletas Planas\n",
      "\n",
      "Tipo de Aleta   qa      eta    Va \n",
      "=============   ======  ====   =======\n",
      "Retangular      290.83  0.30   6.0e+05\n",
      "Triangular      261.05  0.29   3.0e+05\n",
      "Parabólica      243.19  0.27   2.0e+05\n"
     ]
    }
   ],
   "source": [
    "# Header\n",
    "print(\n",
    "    f\"Comparação de Diss. Calor Por Volume\\n\" \\\n",
    "    f\"Aletas Planas\\n\\n\"\\\n",
    "    f\"Tipo de Aleta   qa      eta    Va \\n\" \\\n",
    "    f\"=============   ======  ====   =======\"\n",
    ")\n",
    "# Comparison of volume for planar fins \n",
    "for finClass, label in zip([FinPlanarRectangular,\n",
    "                             FinPlanarTriangular,\n",
    "                             FinPlanarParabolic],\n",
    "                            [\"Retangular\", \"Triangular\", \"Parabólica\"]):\n",
    "    \n",
    "    fin = finClass(\n",
    "                length=finLength,\n",
    "                **planarFinSpecs\n",
    "            )\n",
    "\n",
    "    eta = fin.getEfficiency()\n",
    "    qa  = fin.getHeatTransfer()\n",
    "    Va  = fin.getVolume()\n",
    "    \n",
    "    print(\n",
    "        f\"{label}      {qa:.2f}  {eta:.2f}   {1e9*Va:.1e}\"\n",
    "    )"
   ]
  },
  {
   "cell_type": "code",
   "execution_count": 31,
   "id": "61f2f278-87a3-4f86-ba17-009e1d32224d",
   "metadata": {},
   "outputs": [
    {
     "name": "stdout",
     "output_type": "stream",
     "text": [
      "Comparação de Diss. Calor Por Volume\n",
      "Aletas Piniformes\n",
      "\n",
      "Tipo de Aleta   qa      eta    Va \n",
      "=============   ======  ====   =======\n",
      "Retangular      5.59    0.16   5.9e+03\n",
      "Triangular      4.94    0.28   2.0e+03\n",
      "Parabólica      4.42    0.38   1.2e+03\n"
     ]
    }
   ],
   "source": [
    "# Header\n",
    "print(\n",
    "    f\"Comparação de Diss. Calor Por Volume\\n\" \\\n",
    "    f\"Aletas Piniformes\\n\\n\"\\\n",
    "    f\"Tipo de Aleta   qa      eta    Va \\n\" \\\n",
    "    f\"=============   ======  ====   =======\"\n",
    ")\n",
    "# Comparison of volume for planar fins \n",
    "for finClass, label in zip([FinPiniformRectangular,\n",
    "                             FinPiniformTriangular,\n",
    "                             FinPiniformParabolic],\n",
    "                            [\"Retangular\", \"Triangular\", \"Parabólica\"]):\n",
    "    \n",
    "    fin = finClass(\n",
    "                length=finLength,\n",
    "                **piniformFinSpecs\n",
    "            )\n",
    "\n",
    "    eta = fin.getEfficiency()\n",
    "    qa  = fin.getHeatTransfer()\n",
    "    Va  = fin.getVolume()\n",
    "    \n",
    "    print(\n",
    "        f\"{label}      {qa:.2f}    {eta:.2f}   {1e9*Va:.1e}\"\n",
    "    )"
   ]
  }
 ],
 "metadata": {
  "kernelspec": {
   "display_name": "Python [conda env:feb-lectures]",
   "language": "python",
   "name": "conda-env-feb-lectures-py"
  },
  "language_info": {
   "codemirror_mode": {
    "name": "ipython",
    "version": 3
   },
   "file_extension": ".py",
   "mimetype": "text/x-python",
   "name": "python",
   "nbconvert_exporter": "python",
   "pygments_lexer": "ipython3",
   "version": "3.9.18"
  }
 },
 "nbformat": 4,
 "nbformat_minor": 5
}
